{
 "cells": [
  {
   "cell_type": "markdown",
   "id": "522630fb-d693-4f94-a707-4b4e5ed40aa8",
   "metadata": {},
   "source": [
    "# Notes (2006-2009)"
   ]
  },
  {
   "cell_type": "markdown",
   "id": "ae4ddc2f-3c74-4fae-8ba5-322c3f9ee539",
   "metadata": {},
   "source": [
    "## Merz (1996)\n",
    "\n",
    "### Household's optimal value function:\n",
    "\n",
    "$$\n",
    "\\left\\{\n",
    "\\begin{aligned}\n",
    "&W^{H}(\\Omega_{t}^{H}) = \\max_{\\{\\tilde{c}_{t}, \\tilde{s}_{t}\\}_{t=0}^{\\infty}} \\{U(\\tilde{c}_{t}) - G(n_{t}) + \\beta E_{t}[W^{H}(\\Omega_{t+1}^{H})]]\\} \\\\\n",
    "&\\text{s.t. } \\tilde{c}_{t} + \\tilde{i}_{t} + c(S_{t}) (\\lambda - n_{t}) = w_{t} n_{t} + r_{t} \\tilde{k}_{t}  \\quad [\\lambda_t] \\\\\n",
    "&\\tilde{k}_{t+1} = (1-\\delta') \\tilde{k}_{t} + \\tilde{i}_{t} \\text{ and } \\tilde{K}_{t+1} = (1-\\delta') \\tilde{K}_{t} + \\tilde{I}_{t} \\\\\n",
    "&n_{t+1} = (1-\\psi) n_{t} + p_{t} S_{t} (\\lambda - n_{t}) \\text{ and } N_{t+1} = (1-\\psi) N_{t} + M_{t} / P_{t} \\quad [\\mu_t] \\\\\n",
    "&z_{t+1} = \\psi z_{t} + \\epsilon_{t+1} \\\\\n",
    "&w_{t} = w(\\Omega_{t}) \\text{ , } r_{t} = r(\\Omega_{t}) \\text{ , } \\Omega_{t}^{H} = \\{\\tilde{k}_{t} \\text{ , } n_{t}, \\Omega_{t}\\}\n",
    "\\end{aligned}\n",
    "\\right.\n",
    "$$\n",
    "\n",
    "\n",
    "\n",
    "\n",
    "$\\delta' = 1 - (1-\\delta) \\exp(-\\mu)$\n",
    "\n",
    "$\\Omega_{t} = \\{\\tilde{z}_{t}, N_{t}, \\tilde{K}_{t}\\}$\n",
    "\n",
    "$P_{t} = \\frac{M_{t}}{S_{t} (1-N_{t})}$\n",
    "\n",
    "$\\theta_{t} = \\frac{V_{t}}{1-N_{t}}$\n",
    "\n",
    "$q_{t} = \\frac{M_{t}}{V_{t}}$\n",
    "\n",
    "$U(\\tilde{c}_{t}) = \\log(\\tilde{c}_{t})$\n",
    "\n",
    "$G(n_{t}) = \\frac{n_{t}^{1-\\nu}}{1-\\nu}$\n",
    "\n",
    "$c(S_{t}) = c_{0} S_{t}^{\\eta}$"
   ]
  },
  {
   "cell_type": "markdown",
   "id": "6fbddaaf-f31a-44d1-9682-b1c5d768b8c7",
   "metadata": {},
   "source": []
  },
  {
   "cell_type": "code",
   "execution_count": null,
   "id": "f3aa5de5-ad4b-49ac-9e3b-d462c3702a7d",
   "metadata": {},
   "outputs": [],
   "source": []
  }
 ],
 "metadata": {
  "kernelspec": {
   "display_name": "Python 3 (ipykernel)",
   "language": "python",
   "name": "python3"
  },
  "language_info": {
   "codemirror_mode": {
    "name": "ipython",
    "version": 3
   },
   "file_extension": ".py",
   "mimetype": "text/x-python",
   "name": "python",
   "nbconvert_exporter": "python",
   "pygments_lexer": "ipython3",
   "version": "3.13.5"
  }
 },
 "nbformat": 4,
 "nbformat_minor": 5
}
