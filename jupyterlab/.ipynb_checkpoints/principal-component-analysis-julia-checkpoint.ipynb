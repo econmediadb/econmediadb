{
 "cells": [
  {
   "cell_type": "code",
   "execution_count": null,
   "id": "507abe37-0876-4f19-8fef-cca735c4e294",
   "metadata": {},
   "outputs": [],
   "source": [
    "# Principal Component Analysis"
   ]
  },
  {
   "cell_type": "code",
   "execution_count": 9,
   "id": "de4b9f4a-10a8-462c-80c3-b24af49972f9",
   "metadata": {},
   "outputs": [
    {
     "ename": "LoadError",
     "evalue": "MethodError: objects of type Vector{Float64} are not callable\nUse square brackets [] for indexing an Array.",
     "output_type": "error",
     "traceback": [
      "MethodError: objects of type Vector{Float64} are not callable\nUse square brackets [] for indexing an Array.",
      "",
      "Stacktrace:",
      " [1] (::var\"#23#24\")(col::Int64)",
      "   @ Main ./none:0",
      " [2] iterate",
      "   @ ./generator.jl:47 [inlined]",
      " [3] collect(itr::Base.Generator{UnitRange{Int64}, var\"#23#24\"})",
      "   @ Base ./array.jl:782",
      " [4] top-level scope",
      "   @ In[9]:29"
     ]
    }
   ],
   "source": [
    "using Random\n",
    "using Distributions\n",
    "using LinearAlgebra\n",
    "using Plots\n",
    "\n",
    "# Décomposition en composantes principales\n",
    "function pca(x)\n",
    "    # Calcul de la moyenne pour chaque dimension\n",
    "    means = [mean(x[:, col]) for col in 1:size(x, 2)]\n",
    "    # Recentrage sur la moyenne\n",
    "    x = x .- ones(size(x, 1), 1) * means\n",
    "    # Calcul de la covariance\n",
    "    c = 1 / (size(x, 1) - 1) * x' * x\n",
    "    # Extraction des composantes principales par le calcul des vecteurs propres\n",
    "    ew, ev = eigen(c)\n",
    "    return x, ew, ev\n",
    "end\n",
    "\n",
    "mean = [7.,8.]\n",
    "C = [5 1; 1 1]\n",
    "\n",
    "draw = MvNormal(mean, C)\n",
    "data = rand(draw, 500)\n",
    "\n",
    "\n",
    "## testing\n",
    "\n",
    "x = data\n",
    "means = [mean(x[:, col]) for col in 1:size(x, 2)]\n"
   ]
  },
  {
   "cell_type": "code",
   "execution_count": null,
   "id": "f6924d19-45ee-4560-b85b-f2b53226a4aa",
   "metadata": {},
   "outputs": [],
   "source": [
    "centered, ew, ev = pca(data)\n",
    "\n",
    "println(ew)\n",
    "\n",
    "scatter(data[:, 1], data[:, 2], label=\"nuage de point initial\")\n",
    "scatter!(centered[:, 1], centered[:, 2], label=\"nuage de point recentre\")\n",
    "quiver!([0, 0], [ev[1, 1], ev[2, 1]], scale=1/ew[1], label=\"Vecteur propre 1\", legend=:topright)\n",
    "quiver!([0, 0], [ev[1, 2], ev[2, 2]], scale=1/ew[2], label=\"Vecteur propre 2\")\n",
    "\n",
    "display(plot())"
   ]
  }
 ],
 "metadata": {
  "kernelspec": {
   "display_name": "Julia 1.9.2",
   "language": "julia",
   "name": "julia-1.9"
  },
  "language_info": {
   "file_extension": ".jl",
   "mimetype": "application/julia",
   "name": "julia",
   "version": "1.9.2"
  }
 },
 "nbformat": 4,
 "nbformat_minor": 5
}
