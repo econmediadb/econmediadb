{
 "cells": [
  {
   "cell_type": "markdown",
   "id": "b5007853-a399-4b2b-af1d-c504ec0109a9",
   "metadata": {},
   "source": [
    "# Polynomial\n",
    "\n",
    "Source: Saupin (2023) p.79"
   ]
  },
  {
   "cell_type": "markdown",
   "id": "49420a46-5eae-4510-b6e8-3bf8d3af7d20",
   "metadata": {},
   "source": [
    "$$\n",
    "P(x) = \\sum^{i=n}_{i=0} a_i x^i = a_0 x^0 + a_1 x^1 + \\ldots + a_n x^n\n",
    "$$"
   ]
  },
  {
   "cell_type": "code",
   "execution_count": 1,
   "id": "0cee3505-dca1-4e7a-bf5b-ba06241d56d4",
   "metadata": {},
   "outputs": [],
   "source": [
    "from functools import reduce\n",
    "from timeit import timeit"
   ]
  },
  {
   "cell_type": "code",
   "execution_count": 2,
   "id": "c59a122a-c851-4ef9-88d9-4e398bf66b2c",
   "metadata": {},
   "outputs": [],
   "source": [
    "# Implémentation naïve d'une fonction polynôme.\n",
    "def polynomial(A, x):\n",
    "    return reduce(lambda a, b: a + b,\n",
    "                  [a_i * x**i for i, a_i in enumerate(A)], 0)"
   ]
  },
  {
   "cell_type": "code",
   "execution_count": 3,
   "id": "f5b81438-4334-4b4e-8f39-ff7a989332ac",
   "metadata": {},
   "outputs": [],
   "source": [
    "# Implémentation économe en calculs\n",
    "# d'une fonction polynôme.\n",
    "def smarter_polynomial(A, x):\n",
    "    p = A[0]\n",
    "    for i in range(1, len(A)):\n",
    "        p += A[i] * x\n",
    "        x *=  x\n",
    "    return p"
   ]
  },
  {
   "cell_type": "code",
   "execution_count": 4,
   "id": "d8706c5e-35ca-4126-9638-719cb178b4d6",
   "metadata": {},
   "outputs": [
    {
     "name": "stdout",
     "output_type": "stream",
     "text": [
      "17\n",
      "17\n"
     ]
    }
   ],
   "source": [
    "A = [1, 2, 3]\n",
    "print(polynomial(A, 2))\n",
    "# > 17\n",
    "print(smarter_polynomial(A, 2))\n",
    "# > 17"
   ]
  },
  {
   "cell_type": "code",
   "execution_count": 6,
   "id": "a2214fe2-f52d-4405-beaf-ccf084b14a9a",
   "metadata": {},
   "outputs": [],
   "source": [
    "def test_naive(n):\n",
    "    for i in range(0, n):\n",
    "        polynomial(A, 3)"
   ]
  },
  {
   "cell_type": "code",
   "execution_count": 7,
   "id": "4f5af1ea-8bc3-42e7-9193-3162809d5c7d",
   "metadata": {},
   "outputs": [],
   "source": [
    "def test_smarter(n):\n",
    "    for i in range(0, n):\n",
    "        smarter_polynomial(A, 3)"
   ]
  },
  {
   "cell_type": "code",
   "execution_count": 8,
   "id": "8c5bc93c-72ac-4f06-9b65-fef9f5479ec1",
   "metadata": {},
   "outputs": [
    {
     "name": "stdout",
     "output_type": "stream",
     "text": [
      "3.7855535499999178\n",
      "1.0145400420000215\n"
     ]
    }
   ],
   "source": [
    "print(timeit(\"test_naive(10)\", globals=locals()))\n",
    "#> 16.60 s\n",
    "print(timeit(\"test_smarter(10)\", globals=locals()))\n",
    "#> 6.04 s"
   ]
  },
  {
   "cell_type": "code",
   "execution_count": null,
   "id": "bb9351e1-a622-4745-9914-34a9be03b809",
   "metadata": {},
   "outputs": [],
   "source": []
  }
 ],
 "metadata": {
  "kernelspec": {
   "display_name": "Python 3 (ipykernel)",
   "language": "python",
   "name": "python3"
  },
  "language_info": {
   "codemirror_mode": {
    "name": "ipython",
    "version": 3
   },
   "file_extension": ".py",
   "mimetype": "text/x-python",
   "name": "python",
   "nbconvert_exporter": "python",
   "pygments_lexer": "ipython3",
   "version": "3.12.3"
  }
 },
 "nbformat": 4,
 "nbformat_minor": 5
}
