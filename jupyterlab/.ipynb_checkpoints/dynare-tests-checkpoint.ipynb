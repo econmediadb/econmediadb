{
 "cells": [
  {
   "cell_type": "code",
   "execution_count": 2,
   "id": "db76f883-3511-4dd7-8d21-78d1954847a6",
   "metadata": {},
   "outputs": [],
   "source": [
    "using Dynare"
   ]
  },
  {
   "cell_type": "code",
   "execution_count": 3,
   "id": "7d3a30f0-b2f4-4f36-85f7-71fd9cf46a58",
   "metadata": {},
   "outputs": [
    {
     "ename": "LoadError",
     "evalue": "LoadError: SystemError: opening file \"/home/tarikz/.julia/packages/Dynare/ZWnXf/test/models/estimation/fs2000.log\": No such file or directory\nin expression starting at In[3]:1",
     "output_type": "error",
     "traceback": [
      "LoadError: SystemError: opening file \"/home/tarikz/.julia/packages/Dynare/ZWnXf/test/models/estimation/fs2000.log\": No such file or directory\nin expression starting at In[3]:1",
      "",
      "Stacktrace:",
      "  [1] systemerror(p::String, errno::Int32; extrainfo::Nothing)",
      "    @ Base ./error.jl:176",
      "  [2] systemerror",
      "    @ ./error.jl:175 [inlined]",
      "  [3] open(fname::String; lock::Bool, read::Nothing, write::Nothing, create::Nothing, truncate::Bool, append::Nothing)",
      "    @ Base ./iostream.jl:295",
      "  [4] open",
      "    @ ./iostream.jl:277 [inlined]",
      "  [5] open(fname::String, mode::String; lock::Bool)",
      "    @ Base ./iostream.jl:358",
      "  [6] open",
      "    @ ./iostream.jl:357 [inlined]",
      "  [7] #FormatLogger#18",
      "    @ ~/.julia/packages/LoggingExtras/cFgEq/src/Sinks/formatlogger.jl:47 [inlined]",
      "  [8] FormatLogger",
      "    @ ~/.julia/packages/LoggingExtras/cFgEq/src/Sinks/formatlogger.jl:46 [inlined]",
      "  [9] set_logging",
      "    @ ~/.julia/packages/Dynare/AZQL4/src/logging.jl:9 [inlined]",
      " [10] dynare(::String)",
      "    @ Dynare ~/.julia/packages/Dynare/AZQL4/src/Dynare.jl:71",
      " [11] var\"@dynare\"(__source__::LineNumberNode, __module__::Module, modfile_arg::String, args::Vararg{Any})",
      "    @ Dynare ~/.julia/packages/Dynare/AZQL4/src/Dynare.jl:66"
     ]
    }
   ],
   "source": [
    "context = @dynare \"/home/tarikz/.julia/packages/Dynare/ZWnXf/test/models/estimation/fs2000.mod\""
   ]
  },
  {
   "cell_type": "code",
   "execution_count": null,
   "id": "c2b17730-2fec-4bf9-bc72-8b0954f6fa21",
   "metadata": {},
   "outputs": [],
   "source": [
    "context = @dynare \"mod-files/irbc2.mod\""
   ]
  },
  {
   "cell_type": "code",
   "execution_count": 15,
   "id": "b59d3a94-391d-4488-8d99-6a25f0d54985",
   "metadata": {},
   "outputs": [
    {
     "name": "stdout",
     "output_type": "stream",
     "text": [
      "irfs: Dict{Symbol, AxisArrayTables.AxisArrayTable}()\n",
      "endogenous_steady_state: [1.011, 2.258154387910923, 0.4477107523792038, 1.0, 4.595903784741778, 1.021212121212121, 5.801216036088844, 0.8494249115023413, 0.18721560585295946, 0.8604249115023413, 1.003004504503377, 1.00797154495391, 0.5807650904485501, 1.003004504503377, 0.4477107523792038, 2.258154387910923]\n",
      "endogenous_terminal_steady_state: Float64[]\n",
      "endogenous_linear_trend: Float64[]\n",
      "endogenous_quadratic_trend: Float64[]\n",
      "exogenous_steady_state: [0.0, 0.0]\n",
      "exogenous_terminal_steady_state: Float64[]\n",
      "exogenous_linear_trend: Float64[]\n",
      "exogenous_quadratic_trend: Float64[]\n",
      "exogenous_det_steady_state: Float64[]\n",
      "exogenous_det_terminal_steady_state: Float64[]\n",
      "exogenous_det_linear_trend: Float64[]\n",
      "exogenous_det_quadratic_trend: Float64[]\n",
      "trends: \n",
      "stationary_variables: Bool[0, 0, 0, 0, 0, 1, 0, 0, 1, 0, 0, 0, 0, 0, 0, 0]\n",
      "estimation: Dynare.EstimationResults(Any[], Any[], Any[], Any[], Matrix{Any}(undef, 0, 0), Matrix{Any}(undef, 0, 0), 0)\n",
      "filter: \n",
      "forecast: AxisArrayTables.AxisArrayTable[]\n",
      "initial_smoother: \n",
      "linearrationalexpectations: LinearRationalExpectations.LinearRationalExpectationsResults(ComplexF64[], [0.0 0.0 0.0 0.0 0.0 0.0 0.0; 0.0 0.0 0.0 0.0 0.0 0.0 0.0; 0.0 0.0 0.0 0.0 0.0 0.0 0.0; 0.0 0.0 0.0 0.0 0.0 0.0 0.0; 0.0 0.0 0.0 0.0 0.0 0.0 0.0; 0.0 0.0 0.0 0.0 0.0 0.0 0.0; 0.0 0.0 0.0 0.0 0.0 0.0 0.0; 0.0 0.0 0.0 0.0 0.0 0.0 0.0; 0.0 0.0 0.0 0.0 0.0 0.0 0.0; 0.0 0.0 0.0 0.0 0.0 0.0 0.0; 0.0 0.0 0.0 0.0 0.0 0.0 0.0; 0.0 0.0 0.0 0.0 0.0 0.0 0.0; 0.0 0.0 0.0 0.0 0.0 0.0 0.0; 0.0 0.0 0.0 0.0 0.0 0.0 0.0; 0.0 0.0 0.0 0.0 0.0 0.0 0.0; 0.0 0.0 0.0 0.0 0.0 0.0 0.0], [0.0 0.0 0.0 0.0; 0.0 0.0 0.0 0.0; 0.0 0.0 0.0 0.0; 0.0 0.0 0.0 0.0], [0.0 0.0; 0.0 0.0; 0.0 0.0; 0.0 0.0], [0.0 0.0 0.0 0.0; 0.0 0.0 0.0 0.0; 0.0 0.0 0.0 0.0; 0.0 0.0 0.0 0.0; 0.0 0.0 0.0 0.0; 0.0 0.0 0.0 0.0; 0.0 0.0 0.0 0.0; 0.0 0.0 0.0 0.0; 0.0 0.0 0.0 0.0; 0.0 0.0 0.0 0.0; 0.0 0.0 0.0 0.0; 0.0 0.0 0.0 0.0], [0.0 0.0; 0.0 0.0; 0.0 0.0; 0.0 0.0; 0.0 0.0; 0.0 0.0; 0.0 0.0; 0.0 0.0; 0.0 0.0; 0.0 0.0; 0.0 0.0; 0.0 0.0], [0.0 0.0 0.0 0.0; 0.0 0.0 0.0 0.0; 0.0 0.0 0.0 0.0; 0.0 0.0 0.0 0.0; 0.0 0.0 0.0 0.0; 0.0 0.0 0.0 0.0; 0.0 0.0 0.0 0.0; 0.0 0.0 0.0 0.0; 0.0 0.0 0.0 0.0; 0.0 0.0 0.0 0.0; 0.0 0.0 0.0 0.0; 0.0 0.0 0.0 0.0; 0.0 0.0 0.0 0.0; 0.0 0.0 0.0 0.0; 0.0 0.0 0.0 0.0; 0.0 0.0 0.0 0.0], [0.0 0.0; 0.0 0.0; 0.0 0.0; 0.0 0.0; 0.0 0.0; 0.0 0.0; 0.0 0.0; 0.0 0.0; 0.0 0.0; 0.0 0.0; 0.0 0.0; 0.0 0.0; 0.0 0.0; 0.0 0.0; 0.0 0.0; 0.0 0.0], [0.0 0.0 0.0 0.0 0.0 0.0 0.0 0.0 0.0 0.0 0.0 0.0 0.0 0.0 0.0 0.0; 0.0 0.0 0.0 0.0 0.0 0.0 0.0 0.0 0.0 0.0 0.0 0.0 0.0 0.0 0.0 0.0; 0.0 0.0 0.0 0.0 0.0 0.0 0.0 0.0 0.0 0.0 0.0 0.0 0.0 0.0 0.0 0.0; 0.0 0.0 0.0 0.0 0.0 0.0 0.0 0.0 0.0 0.0 0.0 0.0 0.0 0.0 0.0 0.0; 0.0 0.0 0.0 0.0 0.0 0.0 0.0 0.0 0.0 0.0 0.0 0.0 0.0 0.0 0.0 0.0; 0.0 0.0 0.0 0.0 0.0 0.0 0.0 0.0 0.0 0.0 0.0 0.0 0.0 0.0 0.0 0.0; 0.0 0.0 0.0 0.0 0.0 0.0 0.0 0.0 0.0 0.0 0.0 0.0 0.0 0.0 0.0 0.0; 0.0 0.0 0.0 0.0 0.0 0.0 0.0 0.0 0.0 0.0 0.0 0.0 0.0 0.0 0.0 0.0; 0.0 0.0 0.0 0.0 0.0 0.0 0.0 0.0 0.0 0.0 0.0 0.0 0.0 0.0 0.0 0.0; 0.0 0.0 0.0 0.0 0.0 0.0 0.0 0.0 0.0 0.0 0.0 0.0 0.0 0.0 0.0 0.0; 0.0 0.0 0.0 0.0 0.0 0.0 0.0 0.0 0.0 0.0 0.0 0.0 0.0 0.0 0.0 0.0; 0.0 0.0 0.0 0.0 0.0 0.0 0.0 0.0 0.0 0.0 0.0 0.0 0.0 0.0 0.0 0.0; 0.0 0.0 0.0 0.0 0.0 0.0 0.0 0.0 0.0 0.0 0.0 0.0 0.0 0.0 0.0 0.0; 0.0 0.0 0.0 0.0 0.0 0.0 0.0 0.0 0.0 0.0 0.0 0.0 0.0 0.0 0.0 0.0; 0.0 0.0 0.0 0.0 0.0 0.0 0.0 0.0 0.0 0.0 0.0 0.0 0.0 0.0 0.0 0.0; 0.0 0.0 0.0 0.0 0.0 0.0 0.0 0.0 0.0 0.0 0.0 0.0 0.0 0.0 0.0 0.0], Bool[0, 1, 1, 1, 1, 1, 0, 0, 0, 1, 1, 1, 1, 1, 0, 0])\n",
      "simulations: Simulation[]\n",
      "smoother: \n",
      "solution_derivatives: Matrix{Float64}[]\n",
      "irfs: Dict{Symbol, AxisArrayTables.AxisArrayTable}()\n",
      "endogenous_steady_state: [1.011, 2.258154387910923, 0.4477107523792038, 1.0, 4.595903784741778, 1.021212121212121, 5.801216036088844, 0.8494249115023413, 0.18721560585295946, 0.8604249115023413, 1.003004504503377, 1.00797154495391, 0.5807650904485501, 1.003004504503377, 0.4477107523792038, 2.258154387910923]\n",
      "endogenous_terminal_steady_state: Float64[]\n",
      "endogenous_linear_trend: Float64[]\n",
      "endogenous_quadratic_trend: Float64[]\n",
      "exogenous_steady_state: [0.0, 0.0]\n",
      "exogenous_terminal_steady_state: Float64[]\n",
      "exogenous_linear_trend: Float64[]\n",
      "exogenous_quadratic_trend: Float64[]\n",
      "exogenous_det_steady_state: Float64[]\n",
      "exogenous_det_terminal_steady_state: Float64[]\n",
      "exogenous_det_linear_trend: Float64[]\n",
      "exogenous_det_quadratic_trend: Float64[]\n",
      "trends: \n",
      "stationary_variables: Bool[0, 0, 0, 0, 0, 1, 0, 0, 1, 0, 0, 0, 0, 0, 0, 0]\n",
      "estimation: Dynare.EstimationResults(Any[], Any[], Any[], Any[], Matrix{Any}(undef, 0, 0), Matrix{Any}(undef, 0, 0), 0)\n",
      "filter: \n",
      "forecast: AxisArrayTables.AxisArrayTable[]\n",
      "initial_smoother: \n",
      "linearrationalexpectations: LinearRationalExpectations.LinearRationalExpectationsResults(ComplexF64[], [0.0 0.0 0.0 0.0 0.0 0.0 0.0; 0.0 0.0 0.0 0.0 0.0 0.0 0.0; 0.0 0.0 0.0 0.0 0.0 0.0 0.0; 0.0 0.0 0.0 0.0 0.0 0.0 0.0; 0.0 0.0 0.0 0.0 0.0 0.0 0.0; 0.0 0.0 0.0 0.0 0.0 0.0 0.0; 0.0 0.0 0.0 0.0 0.0 0.0 0.0; 0.0 0.0 0.0 0.0 0.0 0.0 0.0; 0.0 0.0 0.0 0.0 0.0 0.0 0.0; 0.0 0.0 0.0 0.0 0.0 0.0 0.0; 0.0 0.0 0.0 0.0 0.0 0.0 0.0; 0.0 0.0 0.0 0.0 0.0 0.0 0.0; 0.0 0.0 0.0 0.0 0.0 0.0 0.0; 0.0 0.0 0.0 0.0 0.0 0.0 0.0; 0.0 0.0 0.0 0.0 0.0 0.0 0.0; 0.0 0.0 0.0 0.0 0.0 0.0 0.0], [0.0 0.0 0.0 0.0; 0.0 0.0 0.0 0.0; 0.0 0.0 0.0 0.0; 0.0 0.0 0.0 0.0], [0.0 0.0; 0.0 0.0; 0.0 0.0; 0.0 0.0], [0.0 0.0 0.0 0.0; 0.0 0.0 0.0 0.0; 0.0 0.0 0.0 0.0; 0.0 0.0 0.0 0.0; 0.0 0.0 0.0 0.0; 0.0 0.0 0.0 0.0; 0.0 0.0 0.0 0.0; 0.0 0.0 0.0 0.0; 0.0 0.0 0.0 0.0; 0.0 0.0 0.0 0.0; 0.0 0.0 0.0 0.0; 0.0 0.0 0.0 0.0], [0.0 0.0; 0.0 0.0; 0.0 0.0; 0.0 0.0; 0.0 0.0; 0.0 0.0; 0.0 0.0; 0.0 0.0; 0.0 0.0; 0.0 0.0; 0.0 0.0; 0.0 0.0], [0.0 0.0 0.0 0.0; 0.0 0.0 0.0 0.0; 0.0 0.0 0.0 0.0; 0.0 0.0 0.0 0.0; 0.0 0.0 0.0 0.0; 0.0 0.0 0.0 0.0; 0.0 0.0 0.0 0.0; 0.0 0.0 0.0 0.0; 0.0 0.0 0.0 0.0; 0.0 0.0 0.0 0.0; 0.0 0.0 0.0 0.0; 0.0 0.0 0.0 0.0; 0.0 0.0 0.0 0.0; 0.0 0.0 0.0 0.0; 0.0 0.0 0.0 0.0; 0.0 0.0 0.0 0.0], [0.0 0.0; 0.0 0.0; 0.0 0.0; 0.0 0.0; 0.0 0.0; 0.0 0.0; 0.0 0.0; 0.0 0.0; 0.0 0.0; 0.0 0.0; 0.0 0.0; 0.0 0.0; 0.0 0.0; 0.0 0.0; 0.0 0.0; 0.0 0.0], [0.0 0.0 0.0 0.0 0.0 0.0 0.0 0.0 0.0 0.0 0.0 0.0 0.0 0.0 0.0 0.0; 0.0 0.0 0.0 0.0 0.0 0.0 0.0 0.0 0.0 0.0 0.0 0.0 0.0 0.0 0.0 0.0; 0.0 0.0 0.0 0.0 0.0 0.0 0.0 0.0 0.0 0.0 0.0 0.0 0.0 0.0 0.0 0.0; 0.0 0.0 0.0 0.0 0.0 0.0 0.0 0.0 0.0 0.0 0.0 0.0 0.0 0.0 0.0 0.0; 0.0 0.0 0.0 0.0 0.0 0.0 0.0 0.0 0.0 0.0 0.0 0.0 0.0 0.0 0.0 0.0; 0.0 0.0 0.0 0.0 0.0 0.0 0.0 0.0 0.0 0.0 0.0 0.0 0.0 0.0 0.0 0.0; 0.0 0.0 0.0 0.0 0.0 0.0 0.0 0.0 0.0 0.0 0.0 0.0 0.0 0.0 0.0 0.0; 0.0 0.0 0.0 0.0 0.0 0.0 0.0 0.0 0.0 0.0 0.0 0.0 0.0 0.0 0.0 0.0; 0.0 0.0 0.0 0.0 0.0 0.0 0.0 0.0 0.0 0.0 0.0 0.0 0.0 0.0 0.0 0.0; 0.0 0.0 0.0 0.0 0.0 0.0 0.0 0.0 0.0 0.0 0.0 0.0 0.0 0.0 0.0 0.0; 0.0 0.0 0.0 0.0 0.0 0.0 0.0 0.0 0.0 0.0 0.0 0.0 0.0 0.0 0.0 0.0; 0.0 0.0 0.0 0.0 0.0 0.0 0.0 0.0 0.0 0.0 0.0 0.0 0.0 0.0 0.0 0.0; 0.0 0.0 0.0 0.0 0.0 0.0 0.0 0.0 0.0 0.0 0.0 0.0 0.0 0.0 0.0 0.0; 0.0 0.0 0.0 0.0 0.0 0.0 0.0 0.0 0.0 0.0 0.0 0.0 0.0 0.0 0.0 0.0; 0.0 0.0 0.0 0.0 0.0 0.0 0.0 0.0 0.0 0.0 0.0 0.0 0.0 0.0 0.0 0.0; 0.0 0.0 0.0 0.0 0.0 0.0 0.0 0.0 0.0 0.0 0.0 0.0 0.0 0.0 0.0 0.0], Bool[0, 1, 1, 1, 1, 1, 0, 0, 0, 1, 1, 1, 1, 1, 0, 0])\n",
      "simulations: Simulation[]\n",
      "smoother: \n",
      "solution_derivatives: Matrix{Float64}[]\n",
      "irfs: Dict{Symbol, AxisArrayTables.AxisArrayTable}()\n",
      "endogenous_steady_state: [1.011, 2.258154387910923, 0.4477107523792038, 1.0, 4.595903784741778, 1.021212121212121, 5.801216036088844, 0.8494249115023413, 0.18721560585295946, 0.8604249115023413, 1.003004504503377, 1.00797154495391, 0.5807650904485501, 1.003004504503377, 0.4477107523792038, 2.258154387910923]\n",
      "endogenous_terminal_steady_state: Float64[]\n",
      "endogenous_linear_trend: Float64[]\n",
      "endogenous_quadratic_trend: Float64[]\n",
      "exogenous_steady_state: [0.0, 0.0]\n",
      "exogenous_terminal_steady_state: Float64[]\n",
      "exogenous_linear_trend: Float64[]\n",
      "exogenous_quadratic_trend: Float64[]\n",
      "exogenous_det_steady_state: Float64[]\n",
      "exogenous_det_terminal_steady_state: Float64[]\n",
      "exogenous_det_linear_trend: Float64[]\n",
      "exogenous_det_quadratic_trend: Float64[]\n",
      "trends: \n",
      "stationary_variables: Bool[0, 0, 0, 0, 0, 1, 0, 0, 1, 0, 0, 0, 0, 0, 0, 0]\n",
      "estimation: Dynare.EstimationResults(Any[], Any[], Any[], Any[], Matrix{Any}(undef, 0, 0), Matrix{Any}(undef, 0, 0), 0)\n",
      "filter: \n",
      "forecast: AxisArrayTables.AxisArrayTable[]\n",
      "initial_smoother: \n",
      "linearrationalexpectations: LinearRationalExpectations.LinearRationalExpectationsResults(ComplexF64[], [0.0 0.0 0.0 0.0 0.0 0.0 0.0; 0.0 0.0 0.0 0.0 0.0 0.0 0.0; 0.0 0.0 0.0 0.0 0.0 0.0 0.0; 0.0 0.0 0.0 0.0 0.0 0.0 0.0; 0.0 0.0 0.0 0.0 0.0 0.0 0.0; 0.0 0.0 0.0 0.0 0.0 0.0 0.0; 0.0 0.0 0.0 0.0 0.0 0.0 0.0; 0.0 0.0 0.0 0.0 0.0 0.0 0.0; 0.0 0.0 0.0 0.0 0.0 0.0 0.0; 0.0 0.0 0.0 0.0 0.0 0.0 0.0; 0.0 0.0 0.0 0.0 0.0 0.0 0.0; 0.0 0.0 0.0 0.0 0.0 0.0 0.0; 0.0 0.0 0.0 0.0 0.0 0.0 0.0; 0.0 0.0 0.0 0.0 0.0 0.0 0.0; 0.0 0.0 0.0 0.0 0.0 0.0 0.0; 0.0 0.0 0.0 0.0 0.0 0.0 0.0], [0.0 0.0 0.0 0.0; 0.0 0.0 0.0 0.0; 0.0 0.0 0.0 0.0; 0.0 0.0 0.0 0.0], [0.0 0.0; 0.0 0.0; 0.0 0.0; 0.0 0.0], [0.0 0.0 0.0 0.0; 0.0 0.0 0.0 0.0; 0.0 0.0 0.0 0.0; 0.0 0.0 0.0 0.0; 0.0 0.0 0.0 0.0; 0.0 0.0 0.0 0.0; 0.0 0.0 0.0 0.0; 0.0 0.0 0.0 0.0; 0.0 0.0 0.0 0.0; 0.0 0.0 0.0 0.0; 0.0 0.0 0.0 0.0; 0.0 0.0 0.0 0.0], [0.0 0.0; 0.0 0.0; 0.0 0.0; 0.0 0.0; 0.0 0.0; 0.0 0.0; 0.0 0.0; 0.0 0.0; 0.0 0.0; 0.0 0.0; 0.0 0.0; 0.0 0.0], [0.0 0.0 0.0 0.0; 0.0 0.0 0.0 0.0; 0.0 0.0 0.0 0.0; 0.0 0.0 0.0 0.0; 0.0 0.0 0.0 0.0; 0.0 0.0 0.0 0.0; 0.0 0.0 0.0 0.0; 0.0 0.0 0.0 0.0; 0.0 0.0 0.0 0.0; 0.0 0.0 0.0 0.0; 0.0 0.0 0.0 0.0; 0.0 0.0 0.0 0.0; 0.0 0.0 0.0 0.0; 0.0 0.0 0.0 0.0; 0.0 0.0 0.0 0.0; 0.0 0.0 0.0 0.0], [0.0 0.0; 0.0 0.0; 0.0 0.0; 0.0 0.0; 0.0 0.0; 0.0 0.0; 0.0 0.0; 0.0 0.0; 0.0 0.0; 0.0 0.0; 0.0 0.0; 0.0 0.0; 0.0 0.0; 0.0 0.0; 0.0 0.0; 0.0 0.0], [0.0 0.0 0.0 0.0 0.0 0.0 0.0 0.0 0.0 0.0 0.0 0.0 0.0 0.0 0.0 0.0; 0.0 0.0 0.0 0.0 0.0 0.0 0.0 0.0 0.0 0.0 0.0 0.0 0.0 0.0 0.0 0.0; 0.0 0.0 0.0 0.0 0.0 0.0 0.0 0.0 0.0 0.0 0.0 0.0 0.0 0.0 0.0 0.0; 0.0 0.0 0.0 0.0 0.0 0.0 0.0 0.0 0.0 0.0 0.0 0.0 0.0 0.0 0.0 0.0; 0.0 0.0 0.0 0.0 0.0 0.0 0.0 0.0 0.0 0.0 0.0 0.0 0.0 0.0 0.0 0.0; 0.0 0.0 0.0 0.0 0.0 0.0 0.0 0.0 0.0 0.0 0.0 0.0 0.0 0.0 0.0 0.0; 0.0 0.0 0.0 0.0 0.0 0.0 0.0 0.0 0.0 0.0 0.0 0.0 0.0 0.0 0.0 0.0; 0.0 0.0 0.0 0.0 0.0 0.0 0.0 0.0 0.0 0.0 0.0 0.0 0.0 0.0 0.0 0.0; 0.0 0.0 0.0 0.0 0.0 0.0 0.0 0.0 0.0 0.0 0.0 0.0 0.0 0.0 0.0 0.0; 0.0 0.0 0.0 0.0 0.0 0.0 0.0 0.0 0.0 0.0 0.0 0.0 0.0 0.0 0.0 0.0; 0.0 0.0 0.0 0.0 0.0 0.0 0.0 0.0 0.0 0.0 0.0 0.0 0.0 0.0 0.0 0.0; 0.0 0.0 0.0 0.0 0.0 0.0 0.0 0.0 0.0 0.0 0.0 0.0 0.0 0.0 0.0 0.0; 0.0 0.0 0.0 0.0 0.0 0.0 0.0 0.0 0.0 0.0 0.0 0.0 0.0 0.0 0.0 0.0; 0.0 0.0 0.0 0.0 0.0 0.0 0.0 0.0 0.0 0.0 0.0 0.0 0.0 0.0 0.0 0.0; 0.0 0.0 0.0 0.0 0.0 0.0 0.0 0.0 0.0 0.0 0.0 0.0 0.0 0.0 0.0 0.0; 0.0 0.0 0.0 0.0 0.0 0.0 0.0 0.0 0.0 0.0 0.0 0.0 0.0 0.0 0.0 0.0], Bool[0, 1, 1, 1, 1, 1, 0, 0, 0, 1, 1, 1, 1, 1, 0, 0])\n"
     ]
    },
    {
     "data": {
      "text/plain": [
       "1-element Vector{ModelResults}:\n",
       " "
      ]
     },
     "execution_count": 15,
     "metadata": {},
     "output_type": "execute_result"
    },
    {
     "name": "stdout",
     "output_type": "stream",
     "text": [
      "simulations: Simulation[]\n",
      "smoother: \n",
      "solution_derivatives: Matrix{Float64}[]\n"
     ]
    }
   ],
   "source": [
    "context.results.model_results"
   ]
  },
  {
   "cell_type": "code",
   "execution_count": null,
   "id": "2b576098-635b-44cf-baef-c34721448d14",
   "metadata": {},
   "outputs": [],
   "source": []
  },
  {
   "cell_type": "code",
   "execution_count": 30,
   "id": "f476e611-9763-4c56-8fa6-f07fdaa11ffc",
   "metadata": {},
   "outputs": [
    {
     "data": {
      "text/plain": []
     },
     "execution_count": 30,
     "metadata": {},
     "output_type": "execute_result"
    },
    {
     "name": "stdout",
     "output_type": "stream",
     "text": [
      "irfs: Dict{Symbol, AxisArrayTables.AxisArrayTable}()\n",
      "endogenous_steady_state: [1.011, 2.258154387910923, 0.4477107523792038, 1.0, 4.595903784741778, 1.021212121212121, 5.801216036088844, 0.8494249115023413, 0.18721560585295946, 0.8604249115023413, 1.003004504503377, 1.00797154495391, 0.5807650904485501, 1.003004504503377, 0.4477107523792038, 2.258154387910923]\n",
      "endogenous_terminal_steady_state: Float64[]\n",
      "endogenous_linear_trend: Float64[]\n",
      "endogenous_quadratic_trend: Float64[]\n",
      "exogenous_steady_state: [0.0, 0.0]\n",
      "exogenous_terminal_steady_state: Float64[]\n",
      "exogenous_linear_trend: Float64[]\n",
      "exogenous_quadratic_trend: Float64[]\n",
      "exogenous_det_steady_state: Float64[]\n",
      "exogenous_det_terminal_steady_state: Float64[]\n",
      "exogenous_det_linear_trend: Float64[]\n",
      "exogenous_det_quadratic_trend: Float64[]\n",
      "trends: \n",
      "stationary_variables: Bool[0, 0, 0, 0, 0, 1, 0, 0, 1, 0, 0, 0, 0, 0, 0, 0]\n",
      "estimation: Dynare.EstimationResults(Any[], Any[], Any[], Any[], Matrix{Any}(undef, 0, 0), Matrix{Any}(undef, 0, 0), 0)\n",
      "filter: \n",
      "forecast: AxisArrayTables.AxisArrayTable[]\n",
      "initial_smoother: \n",
      "linearrationalexpectations: LinearRationalExpectations.LinearRationalExpectationsResults(ComplexF64[], [0.0 0.0 0.0 0.0 0.0 0.0 0.0; 0.0 0.0 0.0 0.0 0.0 0.0 0.0; 0.0 0.0 0.0 0.0 0.0 0.0 0.0; 0.0 0.0 0.0 0.0 0.0 0.0 0.0; 0.0 0.0 0.0 0.0 0.0 0.0 0.0; 0.0 0.0 0.0 0.0 0.0 0.0 0.0; 0.0 0.0 0.0 0.0 0.0 0.0 0.0; 0.0 0.0 0.0 0.0 0.0 0.0 0.0; 0.0 0.0 0.0 0.0 0.0 0.0 0.0; 0.0 0.0 0.0 0.0 0.0 0.0 0.0; 0.0 0.0 0.0 0.0 0.0 0.0 0.0; 0.0 0.0 0.0 0.0 0.0 0.0 0.0; 0.0 0.0 0.0 0.0 0.0 0.0 0.0; 0.0 0.0 0.0 0.0 0.0 0.0 0.0; 0.0 0.0 0.0 0.0 0.0 0.0 0.0; 0.0 0.0 0.0 0.0 0.0 0.0 0.0], [0.0 0.0 0.0 0.0; 0.0 0.0 0.0 0.0; 0.0 0.0 0.0 0.0; 0.0 0.0 0.0 0.0], [0.0 0.0; 0.0 0.0; 0.0 0.0; 0.0 0.0], [0.0 0.0 0.0 0.0; 0.0 0.0 0.0 0.0; 0.0 0.0 0.0 0.0; 0.0 0.0 0.0 0.0; 0.0 0.0 0.0 0.0; 0.0 0.0 0.0 0.0; 0.0 0.0 0.0 0.0; 0.0 0.0 0.0 0.0; 0.0 0.0 0.0 0.0; 0.0 0.0 0.0 0.0; 0.0 0.0 0.0 0.0; 0.0 0.0 0.0 0.0], [0.0 0.0; 0.0 0.0; 0.0 0.0; 0.0 0.0; 0.0 0.0; 0.0 0.0; 0.0 0.0; 0.0 0.0; 0.0 0.0; 0.0 0.0; 0.0 0.0; 0.0 0.0], [0.0 0.0 0.0 0.0; 0.0 0.0 0.0 0.0; 0.0 0.0 0.0 0.0; 0.0 0.0 0.0 0.0; 0.0 0.0 0.0 0.0; 0.0 0.0 0.0 0.0; 0.0 0.0 0.0 0.0; 0.0 0.0 0.0 0.0; 0.0 0.0 0.0 0.0; 0.0 0.0 0.0 0.0; 0.0 0.0 0.0 0.0; 0.0 0.0 0.0 0.0; 0.0 0.0 0.0 0.0; 0.0 0.0 0.0 0.0; 0.0 0.0 0.0 0.0; 0.0 0.0 0.0 0.0], [0.0 0.0; 0.0 0.0; 0.0 0.0; 0.0 0.0; 0.0 0.0; 0.0 0.0; 0.0 0.0; 0.0 0.0; 0.0 0.0; 0.0 0.0; 0.0 0.0; 0.0 0.0; 0.0 0.0; 0.0 0.0; 0.0 0.0; 0.0 0.0], [0.0 0.0 0.0 0.0 0.0 0.0 0.0 0.0 0.0 0.0 0.0 0.0 0.0 0.0 0.0 0.0; 0.0 0.0 0.0 0.0 0.0 0.0 0.0 0.0 0.0 0.0 0.0 0.0 0.0 0.0 0.0 0.0; 0.0 0.0 0.0 0.0 0.0 0.0 0.0 0.0 0.0 0.0 0.0 0.0 0.0 0.0 0.0 0.0; 0.0 0.0 0.0 0.0 0.0 0.0 0.0 0.0 0.0 0.0 0.0 0.0 0.0 0.0 0.0 0.0; 0.0 0.0 0.0 0.0 0.0 0.0 0.0 0.0 0.0 0.0 0.0 0.0 0.0 0.0 0.0 0.0; 0.0 0.0 0.0 0.0 0.0 0.0 0.0 0.0 0.0 0.0 0.0 0.0 0.0 0.0 0.0 0.0; 0.0 0.0 0.0 0.0 0.0 0.0 0.0 0.0 0.0 0.0 0.0 0.0 0.0 0.0 0.0 0.0; 0.0 0.0 0.0 0.0 0.0 0.0 0.0 0.0 0.0 0.0 0.0 0.0 0.0 0.0 0.0 0.0; 0.0 0.0 0.0 0.0 0.0 0.0 0.0 0.0 0.0 0.0 0.0 0.0 0.0 0.0 0.0 0.0; 0.0 0.0 0.0 0.0 0.0 0.0 0.0 0.0 0.0 0.0 0.0 0.0 0.0 0.0 0.0 0.0; 0.0 0.0 0.0 0.0 0.0 0.0 0.0 0.0 0.0 0.0 0.0 0.0 0.0 0.0 0.0 0.0; 0.0 0.0 0.0 0.0 0.0 0.0 0.0 0.0 0.0 0.0 0.0 0.0 0.0 0.0 0.0 0.0; 0.0 0.0 0.0 0.0 0.0 0.0 0.0 0.0 0.0 0.0 0.0 0.0 0.0 0.0 0.0 0.0; 0.0 0.0 0.0 0.0 0.0 0.0 0.0 0.0 0.0 0.0 0.0 0.0 0.0 0.0 0.0 0.0; 0.0 0.0 0.0 0.0 0.0 0.0 0.0 0.0 0.0 0.0 0.0 0.0 0.0 0.0 0.0 0.0; 0.0 0.0 0.0 0.0 0.0 0.0 0.0 0.0 0.0 0.0 0.0 0.0 0.0 0.0 0.0 0.0], Bool[0, 1, 1, 1, 1, 1, 0, 0, 0, 1, 1, 1, 1, 1, 0, 0])\n",
      "simulations: Simulation[]\n",
      "smoother: \n",
      "solution_derivatives: Matrix{Float64}[]\n"
     ]
    }
   ],
   "source": [
    "context.results.model_results"
   ]
  },
  {
   "cell_type": "code",
   "execution_count": 33,
   "id": "e5426588-98e3-4caa-8e74-9fea29f8add7",
   "metadata": {},
   "outputs": [
    {
     "ename": "LoadError",
     "evalue": "type ModelResults has no field endogenous_steady_state",
     "output_type": "error",
     "traceback": [
      "type ModelResults has no field endogenous_steady_state",
      "",
      "Stacktrace:",
      " [1] getproperty(x::ModelResults, f::Symbol)",
      "   @ Base ./Base.jl:37",
      " [2] top-level scope",
      "   @ In[33]:1"
     ]
    }
   ],
   "source": [
    "context.results.model_results[1].endogenous_steady_state"
   ]
  },
  {
   "cell_type": "code",
   "execution_count": null,
   "id": "6bfcb49c-c6f9-497f-bdfb-a50d77de53fd",
   "metadata": {},
   "outputs": [],
   "source": []
  }
 ],
 "metadata": {
  "kernelspec": {
   "display_name": "Julia 1.11.3",
   "language": "julia",
   "name": "julia-1.11"
  },
  "language_info": {
   "file_extension": ".jl",
   "mimetype": "application/julia",
   "name": "julia",
   "version": "1.11.3"
  }
 },
 "nbformat": 4,
 "nbformat_minor": 5
}
