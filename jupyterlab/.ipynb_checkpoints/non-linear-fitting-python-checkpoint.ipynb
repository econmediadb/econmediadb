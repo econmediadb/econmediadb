{
 "cells": [
  {
   "cell_type": "markdown",
   "id": "77671f53-0407-4361-a86d-2512ebe15979",
   "metadata": {},
   "source": [
    "# Non-linear fitting\n",
    "\n",
    "Source: Saupin (2023) p.160;, [Wikipedia (Betz's law)](https://en.wikipedia.org/wiki/Betz%27s_law)"
   ]
  },
  {
   "cell_type": "markdown",
   "id": "0c6aeacf-1c5e-43d4-973d-0e6fd50e9762",
   "metadata": {},
   "source": [
    "In aerodynamics, Betz's law indicates the maximum power that can be extracted from the wind, independent of the design of a wind turbine in open flow.\n",
    "\n",
    "According to Betz's law, no wind turbine of any mechanism can capture more than 16/27 (59.3%) of the kinetic energy in wind. The factor 16/27 (0.593) is known as Betz's coefficient.\n",
    "\n",
    "$$\n",
    "P^{max} = \\frac{16}{27} \\cdot \\frac{1}{2} \\rho S v^3\n",
    "$$"
   ]
  },
  {
   "cell_type": "code",
   "execution_count": 1,
   "id": "376c4854-e3a0-4dc0-b793-f53e690874bd",
   "metadata": {},
   "outputs": [],
   "source": [
    "import numpy as np\n",
    "from numpy.linalg import inv\n",
    "import matplotlib.pyplot as plt"
   ]
  },
  {
   "cell_type": "markdown",
   "id": "ecba2e46-e9bd-49a2-88dd-ce52f05e9784",
   "metadata": {},
   "source": [
    "## Calcul des paramètres par la méthode des moindres carrés."
   ]
  },
  {
   "cell_type": "code",
   "execution_count": 2,
   "id": "7e2d916d-65d6-40d0-a6f7-c306ab911e45",
   "metadata": {},
   "outputs": [],
   "source": [
    "def fit(X, Y):\n",
    "    return inv(X.T.dot(X)).dot(X.T).dot(Y)"
   ]
  },
  {
   "cell_type": "markdown",
   "id": "6bf8fe7d-8333-4a5e-a543-63dc29bb6e37",
   "metadata": {},
   "source": [
    "## Le rayon des pales de l'éolienne est de 50\\:m."
   ]
  },
  {
   "cell_type": "code",
   "execution_count": 7,
   "id": "6e770038-388f-430b-ba0b-0334102faee6",
   "metadata": {},
   "outputs": [],
   "source": [
    "R = 50"
   ]
  },
  {
   "cell_type": "markdown",
   "id": "ca0a84c0-0755-4ee4-a175-95cdd2a01808",
   "metadata": {},
   "source": [
    "## La surface qui en découle est $S = S \\pi r^2$."
   ]
  },
  {
   "cell_type": "code",
   "execution_count": 8,
   "id": "7492dabe-c5e2-4b50-8946-492bc6b09216",
   "metadata": {},
   "outputs": [],
   "source": [
    "S = 2 * 3.1415 * R**2"
   ]
  },
  {
   "cell_type": "markdown",
   "id": "ba8b87de-42d6-4cf2-9ad1-e12ac92d0d7e",
   "metadata": {},
   "source": [
    "## La vitesse du vent est prise entre 0 et 30 $\\frac{m}{s}$."
   ]
  },
  {
   "cell_type": "markdown",
   "id": "d3e190c2-3bb8-4fc2-9013-2db0d0ce073d",
   "metadata": {},
   "source": [
    "$$\n",
    "V_3 = \\frac{8}{27} S v^3\n",
    "$$"
   ]
  },
  {
   "cell_type": "code",
   "execution_count": 9,
   "id": "b7522990-d899-4182-a0c7-c9cdc199fb8a",
   "metadata": {},
   "outputs": [],
   "source": [
    "V = np.linspace(0, 30, 50)\n",
    "V_3 = 8.0 / 27.0 * S * np.array([[v**3] for v in V])"
   ]
  },
  {
   "cell_type": "markdown",
   "id": "76006f1c-aa7b-4204-820d-865b7c2c93bc",
   "metadata": {},
   "source": [
    "## Masse volumique de l'air"
   ]
  },
  {
   "cell_type": "code",
   "execution_count": 4,
   "id": "60f5923b-7e87-41ad-8709-202ec3e85504",
   "metadata": {},
   "outputs": [],
   "source": [
    "rho = 1.292"
   ]
  },
  {
   "cell_type": "markdown",
   "id": "36621064-5b6e-46e7-a3c6-a9ab0d48800c",
   "metadata": {},
   "source": [
    "## Calcul de la puissance selon la loi de Betz, en ajoutant du bruit gaussien."
   ]
  },
  {
   "cell_type": "markdown",
   "id": "92838817-3bc1-4e4b-9b17-1740fcf5e3a3",
   "metadata": {},
   "source": [
    "$$\n",
    "P = \\rho * ( V_3 + \\epsilon )\n",
    "$$"
   ]
  },
  {
   "cell_type": "code",
   "execution_count": 10,
   "id": "5e2f684a-39eb-4d76-a744-d5769ee48e68",
   "metadata": {},
   "outputs": [],
   "source": [
    "P = np.array([ rho * (V_3+np.random.normal())])"
   ]
  },
  {
   "cell_type": "markdown",
   "id": "8e2190ec-883b-4d9f-a7e9-49d40178ba34",
   "metadata": {},
   "source": [
    "## Pour l'exercice, la méthode des moindres carrés est utilisée pour déterminer $\\rho$."
   ]
  },
  {
   "cell_type": "code",
   "execution_count": 5,
   "id": "cfef9300-945c-41aa-b2a4-f61f36f524cf",
   "metadata": {},
   "outputs": [
    {
     "name": "stdout",
     "output_type": "stream",
     "text": [
      "[[[1.29200002]]]\n"
     ]
    }
   ],
   "source": [
    "rho = fit(V_3, P)\n",
    "print(rho)\n",
    "# [[[1.29200001]]]"
   ]
  },
  {
   "cell_type": "code",
   "execution_count": 6,
   "id": "955aa4d6-3dec-486e-be64-69868d206f3d",
   "metadata": {},
   "outputs": [
    {
     "data": {
      "image/png": "[encoded data removed]",
      "text/plain": [
       "<Figure size 640x480 with 1 Axes>"
      ]
     },
     "metadata": {},
     "output_type": "display_data"
    }
   ],
   "source": [
    "plt.plot(V,\n",
    "         [p[0] for p in P[0]],\n",
    "         label='Loi de Betz')\n",
    "plt.legend()\n",
    "plt.show()"
   ]
  },
  {
   "cell_type": "code",
   "execution_count": null,
   "id": "ab003707-134d-482d-a9d6-0eeabdbdd64d",
   "metadata": {},
   "outputs": [],
   "source": []
  }
 ],
 "metadata": {
  "kernelspec": {
   "display_name": "Python 3 (ipykernel)",
   "language": "python",
   "name": "python3"
  },
  "language_info": {
   "codemirror_mode": {
    "name": "ipython",
    "version": 3
   },
   "file_extension": ".py",
   "mimetype": "text/x-python",
   "name": "python",
   "nbconvert_exporter": "python",
   "pygments_lexer": "ipython3",
   "version": "3.12.3"
  }
 },
 "nbformat": 4,
 "nbformat_minor": 5
}
