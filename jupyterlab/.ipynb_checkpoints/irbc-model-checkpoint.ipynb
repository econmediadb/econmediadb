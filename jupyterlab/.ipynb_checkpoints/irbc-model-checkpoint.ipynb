{
 "cells": [
  {
   "cell_type": "markdown",
   "id": "c501484a-c769-4d36-9979-7f9ef2059794",
   "metadata": {},
   "source": [
    "# IRBC Model With Irreversible Investment"
   ]
  },
  {
   "cell_type": "markdown",
   "id": "cac5eed5-c3ac-4434-848c-8af1285e229e",
   "metadata": {},
   "source": [
    "## The model"
   ]
  },
  {
   "cell_type": "markdown",
   "id": "36544195-5628-4a97-a758-f8337bdb0070",
   "metadata": {},
   "source": [
    "The model is proposed by [Backus, Kehoe and Kydland, 1992](http://www.finnkydland.com/papers/International%20Real%20Business%20Cycles.pdf). We use the notation from [Brumm and Scheidegger, 2017](https://johannesbrumm.com/wp-content/uploads/2017/09/Brumm-Scheidegger-2017-ECTA.pdf)."
   ]
  },
  {
   "cell_type": "markdown",
   "id": "07a432b9-16bd-4048-bb69-da4c97c2fbb8",
   "metadata": {},
   "source": [
    "$$ \n",
    "\\max_{ c^j_t, k^j_t } \\mathop{\\mathbb{E}} \\sum^N_{j=0} \\tau^j \\left( \\sum^{\\infty}_{t=1} \\beta^t \\cdot \\frac{ (c^j_t)^{ 1-1/\\gamma^j } }{ 1-1/\\gamma^j }   \\right)\n",
    "$$\n",
    "\n",
    "s.t.\n",
    "\n",
    "$$\n",
    "\\sum^N_{j=1} \\left(  a^j_t \\cdot A \\cdot (k^j_t)^\\zeta + k^j_t (1-\\delta) - k^j_{t+1} - \\frac{\\phi}{2} \\cdot \\left( \\frac{ k^j_{t+1} }{ k^j_t } - 1 \\right)^2 - c_t^j \\right) \\geq 0 \n",
    "$$"
   ]
  },
  {
   "cell_type": "markdown",
   "id": "50f31283-16ef-4eb3-9198-57f22ca1c095",
   "metadata": {},
   "source": [
    "## The Bellman equation"
   ]
  },
  {
   "cell_type": "markdown",
   "id": "064b1d68-182b-4813-8c57-f558d4bb553a",
   "metadata": {},
   "source": [
    "The Bellman equation takes this form :\n",
    "\\begin{equation}\n",
    "V( k^j_t, a^j_t ) = \\max_{ c^j_t, k^j_{t+1} } \\left\\{ \\tau^j \\frac{ (c^j_t)^{ 1-1/\\gamma^j } }{ 1-1/\\gamma^j } + \\beta \\mathop{\\mathbb{E}}_t V\\left( k^j_{t+1}, a^j_{t+1}|a^j_t  \\right) \\right\\}\n",
    "\\end{equation}"
   ]
  },
  {
   "cell_type": "markdown",
   "id": "bb8cfd33-fbe8-4f66-812d-74d9f25956fa",
   "metadata": {},
   "source": [
    "subject to \n",
    "$$\n",
    "a^j_t \\cdot A \\cdot (k^j_t)^\\zeta + k^j_t (1-\\delta) - k^j_{t+1} - c_t^j  \\geq 0  \\ \\ \\hspace{1cm} [\\mu_t]\n",
    "$$"
   ]
  },
  {
   "cell_type": "markdown",
   "id": "b27fbc18-454f-4cd5-b53c-0b073ca0e884",
   "metadata": {},
   "source": [
    "$$\n",
    "k^j_t (1-\\delta) - k^j_{t+1} - \\frac{\\phi}{2} \\cdot \\left( \\frac{ k^j_{t+1} }{ k^j_t } - 1 \\right)^2   \\geq 0  \\ \\ \\hspace{1cm} [\\lambda_t]\n",
    "$$"
   ]
  },
  {
   "cell_type": "markdown",
   "id": "c33bb3ce-d659-454e-9977-4603e238d9fb",
   "metadata": {},
   "source": [
    "## Differentiate the Adjustment Cost on Capital"
   ]
  },
  {
   "cell_type": "markdown",
   "id": "7f93b3aa-b21a-4e3f-8a76-da231ef7f833",
   "metadata": {},
   "source": [
    "$$\n",
    "\\Gamma^j_t(k^j_t, k^j_{t+1}) = \\frac{\\phi}{2} \\cdot k^j_t \\cdot \\left(  \\frac{ k^j_{t+1} }{ k^j_t } - 1 \\right)^2\n",
    "$$"
   ]
  },
  {
   "cell_type": "markdown",
   "id": "a9817cee-f423-4213-91ad-1048ca23f619",
   "metadata": {},
   "source": [
    "$$\n",
    "\\frac{ \\partial \\Gamma^j_t(k^j_t, k^j_{t+1})}{ \\partial k^j_{t+1} } = \\phi\\left( \\frac{ k^j_{t+1} }{ k^j_t } -1 \\right)\n",
    "$$"
   ]
  },
  {
   "cell_type": "markdown",
   "id": "1117e626-3f85-4482-baf1-7fd4f4dc9ed7",
   "metadata": {},
   "source": [
    "\n",
    "$$\n",
    "\\frac{ \\partial \\Gamma^j_t(k^j_t, k^j_{t+1})}{ \\partial k^j_t } = \\frac{\\phi}{2}  \\left[ 1 - \\left(  \\frac{ k^j_{t+1} }{ k^j_t }  \\right)^2 \\right]\n",
    "$$"
   ]
  },
  {
   "cell_type": "markdown",
   "id": "581ba207-d0c4-4e7a-bf38-12be6887f2fc",
   "metadata": {},
   "source": [
    "## Deriving the FOCs"
   ]
  },
  {
   "cell_type": "markdown",
   "id": "3ed003d0-4f5a-49e1-bcde-724f230e6ae3",
   "metadata": {},
   "source": [
    "### $\\frac{ \\partial V(k^j_t, a^j_t) }{ \\partial k^j_{t+1} } = 0$"
   ]
  },
  {
   "cell_type": "code",
   "execution_count": null,
   "id": "07c50875-eabd-4920-830c-c2310ab0e8b5",
   "metadata": {},
   "outputs": [],
   "source": []
  }
 ],
 "metadata": {
  "kernelspec": {
   "display_name": "Python 3 (ipykernel)",
   "language": "python",
   "name": "python3"
  },
  "language_info": {
   "codemirror_mode": {
    "name": "ipython",
    "version": 3
   },
   "file_extension": ".py",
   "mimetype": "text/x-python",
   "name": "python",
   "nbconvert_exporter": "python",
   "pygments_lexer": "ipython3",
   "version": "3.13.2"
  }
 },
 "nbformat": 4,
 "nbformat_minor": 5
}
