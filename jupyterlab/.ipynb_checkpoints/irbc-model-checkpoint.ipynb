{
 "cells": [
  {
   "cell_type": "markdown",
   "id": "c501484a-c769-4d36-9979-7f9ef2059794",
   "metadata": {},
   "source": [
    "# IRBC Model With Irreversible Investment"
   ]
  },
  {
   "cell_type": "markdown",
   "id": "cac5eed5-c3ac-4434-848c-8af1285e229e",
   "metadata": {},
   "source": [
    "## The model"
   ]
  },
  {
   "cell_type": "markdown",
   "id": "36544195-5628-4a97-a758-f8337bdb0070",
   "metadata": {},
   "source": [
    "The model is proposed by [Backus, Kehoe and Kydland, 1992](http://www.finnkydland.com/papers/International%20Real%20Business%20Cycles.pdf). We use the notation from [Brumm and Scheidegger, 2017](https://johannesbrumm.com/wp-content/uploads/2017/09/Brumm-Scheidegger-2017-ECTA.pdf)."
   ]
  },
  {
   "cell_type": "markdown",
   "id": "07a432b9-16bd-4048-bb69-da4c97c2fbb8",
   "metadata": {},
   "source": [
    "$$ \n",
    "\\max_{ c^j_t, k^j_t } \\mathop{\\mathbb{E}} \\sum^N_{j=0} \\tau^j \\left( \\sum^{\\infty}_{t=1} \\beta^t \\cdot \\frac{ (c^j_t)^{ 1-1/\\gamma^j } }{ 1-1/\\gamma^j }   \\right)\n",
    "$$\n",
    "\n",
    "s.t.\n",
    "\n",
    "$$\n",
    "\\sum^N_{j=1} \\left(  a^j_t \\cdot A \\cdot (k^j_t)^\\zeta + k^j_t (1-\\delta) - k^j_{t+1} - \\frac{\\phi}{2} \\cdot \\left( \\frac{ k^j_{t+1} }{ k^j_t } - 1 \\right)^2 - c_t^j \\right) \\geq 0 \n",
    "$$"
   ]
  },
  {
   "cell_type": "markdown",
   "id": "50f31283-16ef-4eb3-9198-57f22ca1c095",
   "metadata": {},
   "source": [
    "## The Bellman equation"
   ]
  },
  {
   "cell_type": "markdown",
   "id": "064b1d68-182b-4813-8c57-f558d4bb553a",
   "metadata": {},
   "source": [
    "The Bellman equation takes this form :\n",
    "\\begin{equation}\n",
    "V( k^j_t, a^j_t ) = \\max_{ c^j_t, k^j_{t+1} } \\left\\{ \\tau^j \\frac{ (c^j_t)^{ 1-1/\\gamma^j } }{ 1-1/\\gamma^j } + \\beta \\mathop{\\mathbb{E}}_t V\\left( k^j_{t+1}, a^j_{t+1}|a^j_t  \\right) \\right\\}\n",
    "\\end{equation}"
   ]
  },
  {
   "cell_type": "markdown",
   "id": "bb8cfd33-fbe8-4f66-812d-74d9f25956fa",
   "metadata": {},
   "source": [
    "subject to \n",
    "$$\n",
    "a^j_t \\cdot A \\cdot (k^j_t)^\\zeta + k^j_t (1-\\delta) - k^j_{t+1} - c_t^j  \\geq 0  \\ \\ \\hspace{1cm} [\\mu_t]\n",
    "$$"
   ]
  },
  {
   "cell_type": "markdown",
   "id": "b27fbc18-454f-4cd5-b53c-0b073ca0e884",
   "metadata": {},
   "source": [
    "$$\n",
    "k^j_t (1-\\delta) - k^j_{t+1} - \\frac{\\phi}{2} \\cdot \\left( \\frac{ k^j_{t+1} }{ k^j_t } - 1 \\right)^2   \\geq 0  \\ \\ \\hspace{1cm} [\\lambda_t]\n",
    "$$"
   ]
  },
  {
   "cell_type": "markdown",
   "id": "c33bb3ce-d659-454e-9977-4603e238d9fb",
   "metadata": {},
   "source": [
    "## Differentiate the Adjustment Cost on Capital"
   ]
  },
  {
   "cell_type": "markdown",
   "id": "845e0859-88fe-487d-96b0-c920f69e76bd",
   "metadata": {},
   "source": [
    "### w.r.t. $kp$\n",
    "\n"
   ]
  },
  {
   "cell_type": "markdown",
   "id": "a9817cee-f423-4213-91ad-1048ca23f619",
   "metadata": {},
   "source": [
    "To differentiate the expression $\\left(\\frac{\\phi}{2}\\right) k \\left(\\frac{k_p}{k} - 1\\right)^2$ with respect to $k_p$, we will apply the chain rule. Let's denote the expression as:\n",
    "\n",
    "$$\n",
    "f(k, k_p) = \\left(\\frac{\\phi}{2}\\right) k \\left(\\frac{k_p}{k} - 1\\right)^2\n",
    "$$\n",
    "\n",
    "Firstly, define an inner function for clarity:\n",
    "\n",
    "$$\n",
    "g(k, k_p) = \\frac{k_p}{k} - 1\n",
    "$$\n",
    "\n",
    "The expression becomes:\n",
    "\n",
    "$$\n",
    "f(k, k_p) = \\left(\\frac{\\phi}{2}\\right) k [g(k, k_p)]^2\n",
    "$$\n",
    "\n",
    "To differentiate $f$ with respect to $k_p$, use the chain rule:\n",
    "\n",
    "$$\n",
    "\\frac{d}{dk_p} f(k, k_p) = \\left(\\frac{\\phi}{2}\\right) k \\cdot 2 \\cdot g(k, k_p) \\cdot \\frac{dg}{dk_p}.\n",
    "$$\n",
    "\n",
    "Now, find $\\frac{dg}{dk_p}$:\n",
    "\n",
    "$$\n",
    "g(k, k_p) = \\frac{k_p}{k} - 1\n",
    "$$\n",
    "\n",
    "Differentiating $g$ with respect to $k_p$, we have:\n",
    "\n",
    "$$\n",
    "\\frac{dg}{dk_p} = \\frac{d}{dk_p} \\left(\\frac{k_p}{k}\\right) = \\frac{1}{k}.\n",
    "$$\n",
    "\n",
    "Substituting $\\frac{dg}{dk_p}$ back into the expression for $\\frac{d}{dk_p} f(k, k_p)$:\n",
    "\n",
    "$$\n",
    "\\frac{d}{dk_p} f(k, k_p) = \\left(\\frac{\\phi}{2}\\right) k \\cdot 2 \\left(\\frac{k_p}{k} - 1\\right) \\cdot \\frac{1}{k}.\n",
    "$$\n",
    "\n",
    "Simplifying this expression:\n",
    "\n",
    "$$\n",
    "= \\phi \\left(\\frac{k_p}{k} - 1\\right).\n",
    "$$"
   ]
  },
  {
   "cell_type": "markdown",
   "id": "5f73c76d-5666-4271-937c-5f265f1535de",
   "metadata": {},
   "source": [
    "### w.r.t. $k$"
   ]
  },
  {
   "cell_type": "markdown",
   "id": "dd72b80d-d288-44a4-94ba-b5ca63f79838",
   "metadata": {},
   "source": [
    "To differentiate the expression $\\left(\\frac{\\phi}{2}\\right) k \\left(\\frac{k_p}{k} - 1\\right)^2$ with respect to $k$, we will use both the product rule and the chain rule. Let's denote the expression as:\n",
    "\n",
    "$$\n",
    "f(k, k_p) = \\left(\\frac{\\phi}{2}\\right) k \\left(\\frac{k_p}{k} - 1\\right)^2\n",
    "$$\n",
    "\n",
    "Firstly, define an inner function for clarity:\n",
    "\n",
    "$$\n",
    "g(k, k_p) = \\frac{k_p}{k} - 1\n",
    "$$\n",
    "\n",
    "Thus, the expression becomes:\n",
    "\n",
    "$$\n",
    "f(k, k_p) = \\left(\\frac{\\phi}{2}\\right) k [g(k, k_p)]^2\n",
    "$$\n",
    "\n",
    "To differentiate $f$ with respect to $k$, we need to apply the product rule because there is a product of $k$ and the squared term:\n",
    "\n",
    "$$\n",
    "\\frac{d}{dk} f(k, k_p) = \\left(\\frac{\\phi}{2}\\right) \\left( \\frac{d}{dk}(k) \\cdot [g(k, k_p)]^2 + k \\cdot \\frac{d}{dk}[g(k, k_p)]^2 \\right).\n",
    "$$\n",
    "\n",
    "**Step 1: Differentiate $k$ with respect to $k$:**\n",
    "\n",
    "$$\n",
    "\\frac{d}{dk} (k) = 1.\n",
    "$$\n",
    "\n",
    "**Step 2: Differentiate $[g(k, k_p)]^2$ using the chain rule:**\n",
    "\n",
    "First, differentiate the inner function $g(k, k_p)$:\n",
    "\n",
    "$$\n",
    "g(k, k_p) = \\frac{k_p}{k} - 1\n",
    "$$\n",
    "\n",
    "Differentiating with respect to $k$, we get:\n",
    "\n",
    "$$\n",
    "\\frac{d}{dk}\\left(\\frac{k_p}{k}\\right) = -\\frac{k_p}{k^2}.\n",
    "$$\n",
    "\n",
    "Therefore,\n",
    "\n",
    "$$\n",
    "\\frac{d}{dk}[g(k, k_p)] = -\\frac{k_p}{k^2}.\n",
    "$$\n",
    "\n",
    "Now apply the chain rule to $[g(k, k_p)]^2$:\n",
    "\n",
    "$$\n",
    "\\frac{d}{dk} [g(k, k_p)]^2 = 2[g(k, k_p)] \\cdot \\left(-\\frac{k_p}{k^2}\\right).\n",
    "$$\n",
    "\n",
    "**Combine using the product rule:**\n",
    "\n",
    "$$\n",
    "\\frac{d}{dk} f(k, k_p) = \\left(\\frac{\\phi}{2}\\right) \\left( [g(k, k_p)]^2 + k \\cdot 2[g(k, k_p)] \\cdot \\left(-\\frac{k_p}{k^2}\\right) \\right).\n",
    "$$\n",
    "\n",
    "Substitute $g(k, k_p) = \\frac{k_p}{k} - 1$ back into the expression:\n",
    "\n",
    "$$\n",
    "= \\left(\\frac{\\phi}{2}\\right) \\left( \\left(\\frac{k_p}{k} - 1\\right)^2 + k \\cdot 2\\left(\\frac{k_p}{k} - 1\\right) \\cdot \\left(-\\frac{k_p}{k^2}\\right) \\right).\n",
    "$$\n",
    "\n",
    "Simplify the expression:\n",
    "\n",
    "$$\n",
    "= \\left(\\frac{\\phi}{2}\\right) \\left( \\left(\\frac{k_p}{k} - 1\\right)^2 - \\frac{2k_p}{k} \\left(\\frac{k_p}{k} - 1\\right) \\right).\n",
    "$$\n",
    "\n",
    "Distribute and combine terms:\n",
    "\n",
    "$$\n",
    "= \\left(\\frac{\\phi}{2}\\right) \\left( \\left(\\frac{k_p^2}{k^2} - \\frac{2k_p}{k} + 1\\right) - \\left(\\frac{2k_p^2}{k^2} - \\frac{2k_p}{k}\\right) \\right).\n",
    "$$\n",
    "\n",
    "$$\n",
    "= \\left(\\frac{\\phi}{2}\\right) \\left( \\frac{k_p^2}{k^2} - \\frac{2k_p}{k} + 1 - \\frac{2k_p^2}{k^2} + \\frac{2k_p}{k} \\right).\n",
    "$$\n",
    "\n",
    "Combine like terms:\n",
    "\n",
    "$$\n",
    "= \\left(\\frac{\\phi}{2}\\right) \\left( -\\frac{k_p^2}{k^2} + 1 \\right).\n",
    "$$\n",
    "\n",
    "Thus, the derivative of the given expression with respect to $k$ is:\n",
    "\n",
    "$$\n",
    "\\frac{\\phi}{2} \\left( 1 - \\frac{k_p^2}{k^2} \\right).\n",
    "$$\n"
   ]
  },
  {
   "cell_type": "code",
   "execution_count": null,
   "id": "8e19bc20-af64-45c1-ba28-4e654a4a1ee7",
   "metadata": {},
   "outputs": [],
   "source": []
  }
 ],
 "metadata": {
  "kernelspec": {
   "display_name": "Python 3 (ipykernel)",
   "language": "python",
   "name": "python3"
  },
  "language_info": {
   "codemirror_mode": {
    "name": "ipython",
    "version": 3
   },
   "file_extension": ".py",
   "mimetype": "text/x-python",
   "name": "python",
   "nbconvert_exporter": "python",
   "pygments_lexer": "ipython3",
   "version": "3.13.2"
  }
 },
 "nbformat": 4,
 "nbformat_minor": 5
}
