{
 "cells": [
  {
   "cell_type": "markdown",
   "id": "c501484a-c769-4d36-9979-7f9ef2059794",
   "metadata": {},
   "source": [
    "# IRBC Model With Irreversible Investment"
   ]
  },
  {
   "cell_type": "markdown",
   "id": "cac5eed5-c3ac-4434-848c-8af1285e229e",
   "metadata": {},
   "source": [
    "## The model"
   ]
  },
  {
   "cell_type": "markdown",
   "id": "36544195-5628-4a97-a758-f8337bdb0070",
   "metadata": {},
   "source": [
    "The model is proposed by [Backus, Kehoe and Kydland, 1992](http://www.finnkydland.com/papers/International%20Real%20Business%20Cycles.pdf). We use the notation from [Brumm and Scheidegger, 2017](https://johannesbrumm.com/wp-content/uploads/2017/09/Brumm-Scheidegger-2017-ECTA.pdf)."
   ]
  },
  {
   "cell_type": "markdown",
   "id": "07a432b9-16bd-4048-bb69-da4c97c2fbb8",
   "metadata": {},
   "source": [
    "$$ \n",
    "\\max_{ c^j_t, k^j_t } \\mathop{\\mathbb{E}} \\sum^N_{j=0} \\tau^j \\left( \\sum^{\\infty}_{t=1} \\beta^t \\cdot \\frac{ (c^j_t)^{ 1-1/\\gamma^j } }{ 1-1/\\gamma^j }   \\right)\n",
    "$$\n",
    "\n",
    "s.t.\n",
    "\n",
    "$$\n",
    "\\sum^N_{j=1} \\left(  a^j_t \\cdot A \\cdot (k^j_t)^\\zeta + k^j_t (1-\\delta) - k^j_{t+1} - \\frac{\\phi}{2} \\cdot \\left( \\frac{ k^j_{t+1} }{ k^j_t } - 1 \\right)^2 - c_t^j \\right) \\geq 0 \n",
    "$$"
   ]
  },
  {
   "cell_type": "markdown",
   "id": "50f31283-16ef-4eb3-9198-57f22ca1c095",
   "metadata": {},
   "source": [
    "## The Bellman equation"
   ]
  },
  {
   "cell_type": "markdown",
   "id": "064b1d68-182b-4813-8c57-f558d4bb553a",
   "metadata": {},
   "source": [
    "The Bellman equation takes this form :\n",
    "\\begin{equation}\n",
    "V( k^j_t, a^j_t ) = \\max_{ c^j_t, k^j_{t+1} } \\left\\{ \\tau^j \\frac{ (c^j_t)^{ 1-1/\\gamma^j } }{ 1-1/\\gamma^j } + \\beta \\mathop{\\mathbb{E}}_t V\\left( k^j_{t+1}, a^j_{t+1}|a^j_t  \\right) \\right\\}\n",
    "\\end{equation}"
   ]
  },
  {
   "cell_type": "markdown",
   "id": "bb8cfd33-fbe8-4f66-812d-74d9f25956fa",
   "metadata": {},
   "source": [
    "subject to \n",
    "$$\n",
    "a^j_t \\cdot A \\cdot (k^j_t)^\\zeta + k^j_t (1-\\delta) - k^j_{t+1} - c_t^j  \\geq 0  \\ \\ \\hspace{1cm} [\\mu_t]\n",
    "$$"
   ]
  },
  {
   "cell_type": "markdown",
   "id": "b27fbc18-454f-4cd5-b53c-0b073ca0e884",
   "metadata": {},
   "source": [
    "$$\n",
    "k^j_t (1-\\delta) - k^j_{t+1} - \\frac{\\phi}{2} \\cdot \\left( \\frac{ k^j_{t+1} }{ k^j_t } - 1 \\right)^2   \\geq 0  \\ \\ \\hspace{1cm} [\\lambda_t]\n",
    "$$"
   ]
  },
  {
   "cell_type": "markdown",
   "id": "c33bb3ce-d659-454e-9977-4603e238d9fb",
   "metadata": {},
   "source": [
    "## Differentiate the Adjustment Cost on Capital"
   ]
  },
  {
   "cell_type": "markdown",
   "id": "7f93b3aa-b21a-4e3f-8a76-da231ef7f833",
   "metadata": {},
   "source": [
    "$$\n",
    "\\Gamma^j_t(k^j_t, k^j_{t+1}) = \\frac{\\phi}{2} \\cdot k^j_t \\cdot \\left(  \\frac{ k^j_{t+1} }{ k^j_t } - 1 \\right)^2\n",
    "$$"
   ]
  },
  {
   "cell_type": "markdown",
   "id": "a9817cee-f423-4213-91ad-1048ca23f619",
   "metadata": {},
   "source": [
    "$$\n",
    "\\frac{ \\partial \\Gamma^j_t(k^j_t, k^j_{t+1})}{ \\partial k^j_{t+1} } = \\phi\\left( \\frac{ k^j_{t+1} }{ k^j_t } -1 \\right)\n",
    "$$"
   ]
  },
  {
   "cell_type": "markdown",
   "id": "429ce344-7928-4ce7-8d00-155c0e8979b0",
   "metadata": {},
   "source": [
    "$$\n",
    "\\frac{ \\partial \\Gamma^j_t (k^j_t, k^j_{t+1}) }{ \\partial k^j_t } = \\frac{ \\partial \\Gamma ( k^j_t, k^j_{t+1} ) }{ \\partial k^j_{t+1} } \\cdot \\frac{ \\partial k^j_{t+1} }{ \\partial k^j_{t} }\n",
    "$$"
   ]
  },
  {
   "cell_type": "markdown",
   "id": "581ba207-d0c4-4e7a-bf38-12be6887f2fc",
   "metadata": {},
   "source": [
    "## Deriving the FOCs"
   ]
  },
  {
   "cell_type": "markdown",
   "id": "3ed003d0-4f5a-49e1-bcde-724f230e6ae3",
   "metadata": {},
   "source": [
    "### $\\frac{ \\partial V(k^j_t, a^j_t) }{ \\partial k^j_{t+1} } = 0$"
   ]
  },
  {
   "cell_type": "markdown",
   "id": "e404a2d1-dae9-45f0-b1a4-246a95a7888a",
   "metadata": {},
   "source": [
    "$$\n",
    "\\frac{ \\partial V(k^j_t, a^j_t) }{ \\partial k^j_{t+1} } = 0 \\iff \\beta \\mathop{\\mathbb{E}}_t \\frac{ \\partial V(k^j_{t+1}, a^j_{t+1} | a^j_t) }{ \\partial k^j_{t+1} } - \\mu_t - \\lambda_t \\left[ 1 + \\phi \\left( \\frac{ k^j_{t+1} }{ k^j_t } - 1 \\right)  \\right] = 0\n",
    "$$"
   ]
  },
  {
   "cell_type": "markdown",
   "id": "8b0ced6f-6de7-41c2-9e5e-d99b9d87252a",
   "metadata": {},
   "source": [
    "### Using the Envelope Theorem"
   ]
  },
  {
   "cell_type": "markdown",
   "id": "f3c98900-d83a-4c37-95b0-1db176de4e19",
   "metadata": {},
   "source": [
    "$$\n",
    "\\frac{ \\partial V(k^j_t, a^j_t) }{ \\partial k^j_t } = \\beta \\mathop{\\mathbb{E}}_t \\frac{ \\partial V(k^j_{t+1}, a^j_{t+1} | a^j_t ) }{ \\partial k^j_{t+1} } \\cdot \\frac{ \\partial k^j_{t+1} }{ \\partial k^j_{t} } + \\mu_t \\left[ a^j_t \\cdot A \\cdot \\zeta (k^j_t)^{\\zeta - 1} + (1-\\delta) - \\frac{ \\partial k^j_{t+1} }{ \\partial k^j_t }  \\right] + \\lambda \\left[ (1-\\delta) - \\frac{ \\partial k^j_{t+1} }{ \\partial k^j_t } - \\frac{ \\partial \\Gamma (k^j_{t+1}) }{ \\partial \\partial k^j_{t+1} } \\cdot \\frac{ \\partial k^j_{t+1} }{ \\partial k^j_t } \\right] \n",
    "$$"
   ]
  },
  {
   "cell_type": "markdown",
   "id": "7d84146b-af0f-4b12-8d16-e36cdf35fd2c",
   "metadata": {},
   "source": [
    "$$\n",
    "\\frac{ \\partial V(k^j_t, a^j_t) }{ \\partial k^j_t } = \\left[ \\underbrace{ \\beta \\mathop{\\mathbb{E}}_t \\frac{ \\partial V(k^j_{t+1}, a^j_{t+1} | a^j_t ) }{ \\partial k^j_{t+1} } - \\mu_t - \\lambda_t \\left( 1 + \\frac{ \\partial \\Gamma (k^j_t, k^j_{t+1}) }{ \\partial k^j_{t+1} }  \\right) }_{=0} \\right] \\frac{ \\partial k^j_{t+1} }{ \\partial k^j_t } + \\mu_t \\left[ a^j_t \\cdot A \\cdot \\zeta ( k^j_t )^{\\zeta - 1} + (1 - \\delta) \\right] + \\lambda_t \\cdot (1-\\delta)\n",
    "$$"
   ]
  },
  {
   "cell_type": "markdown",
   "id": "e756f72e-86dd-439a-a8c2-1aba0ef28dec",
   "metadata": {},
   "source": [
    "$$\n",
    "\\iff \\frac{ \\partial V(k^j_t, a^j_t) }{ \\partial k^j_t } = \\mu_t \\left[ a^j_t \\cdot A \\cdot \\zeta ( k^j_t )^{\\zeta - 1} + (1 - \\delta) \\right] + \\lambda_t \\cdot (1-\\delta)\n",
    "$$"
   ]
  },
  {
   "cell_type": "markdown",
   "id": "a381a184-799d-4e06-9b8a-15dc3389a4b6",
   "metadata": {},
   "source": [
    "$$\n",
    "\\iff \\frac{ \\partial V(k^j_{t+1}, a^j_{t+1}) }{ \\partial k^j_{t+1} } = \\mu_{t+1} \\left[ a^j_{t+1} \\cdot A \\cdot \\zeta ( k^j_{t+1} )^{\\zeta - 1} + (1 - \\delta) \\right] + \\lambda_{t+1} \\cdot (1-\\delta)\n",
    "$$"
   ]
  },
  {
   "cell_type": "markdown",
   "id": "bb957bf1-6210-46ce-b234-5b4f67a2bf56",
   "metadata": {},
   "source": [
    "$$\n",
    "\\frac{ \\partial V(k^j_t, a^j_t) }{ \\partial k^j_{t+1} } = 0 \\iff \\beta \\mathop{\\mathbb{E}}_t \\left\\{ \\mu_{t+1} \\left[ a^j_{t+1} \\cdot A \\cdot \\zeta ( k^j_{t+1} )^{\\zeta - 1} + (1 - \\delta) \\right] + \\lambda_{t+1} \\cdot (1-\\delta) \\right\\} - \\mu_t - \\lambda_t \\left[ 1 + \\phi \\left( \\frac{ k^j_{t+1} }{ k^j_t } - 1 \\right)  \\right] = 0\n",
    "$$"
   ]
  },
  {
   "cell_type": "markdown",
   "id": "ba7c0af7-db87-4184-964f-1550d7297690",
   "metadata": {},
   "source": [
    "### $\\frac{ \\partial V(k^j_t, a^j_t) }{ \\partial c^j_t } = 0$"
   ]
  },
  {
   "cell_type": "markdown",
   "id": "481cf6d4-9b73-42cb-be24-4c96ba5e705e",
   "metadata": {},
   "source": [
    "$$\n",
    "\\frac{ \\partial V(k^j_t, a^j_t) }{ \\partial c^j_t } = 0 \\iff \\tau^j \\cdot (c^j_t)^{-1/\\gamma^j} = \\mu_t\n",
    "$$"
   ]
  },
  {
   "cell_type": "markdown",
   "id": "dc530e0c-310a-42aa-a21c-5d82dd768bb5",
   "metadata": {},
   "source": [
    "## Dynamic equation that describe the model"
   ]
  },
  {
   "cell_type": "markdown",
   "id": "642a04c9-332b-441d-8010-f96d00b1d094",
   "metadata": {},
   "source": [
    "$$\n",
    "a^j_t \\cdot A \\cdot (k^j_t)^\\zeta + k^j_t (1-\\delta) - k^j_{t+1} - c_t^j  \\geq 0\n",
    "$$"
   ]
  },
  {
   "cell_type": "markdown",
   "id": "e9de01d3-ba58-4763-97d9-b950afadb25c",
   "metadata": {},
   "source": [
    "$$\n",
    "k^j_t (1-\\delta) - k^j_{t+1} - \\frac{\\phi}{2} \\cdot \\left( \\frac{ k^j_{t+1} }{ k^j_t } - 1 \\right)^2   \\geq 0 \n",
    "$$"
   ]
  },
  {
   "cell_type": "markdown",
   "id": "abf4fb74-6ac5-443d-9b2b-73f2d4a80cbb",
   "metadata": {},
   "source": [
    "$$\n",
    "\\beta \\mathop{\\mathbb{E}}_t \\left\\{ \\mu_{t+1} \\left[ a^j_{t+1} \\cdot A \\cdot \\zeta ( k^j_{t+1} )^{\\zeta - 1} + (1 - \\delta) \\right] + \\lambda_{t+1} \\cdot (1-\\delta) \\right\\} - \\mu_t - \\lambda_t \\left[ 1 + \\phi \\left( \\frac{ k^j_{t+1} }{ k^j_t } - 1 \\right)  \\right] = 0\n",
    "$$"
   ]
  },
  {
   "cell_type": "markdown",
   "id": "d68b21ba-764c-47c4-8598-2c4511dfbfbf",
   "metadata": {},
   "source": [
    "$$\n",
    "\\tau^j \\cdot (c^j_t)^{-1/\\gamma^j} = \\mu_t\n",
    "$$"
   ]
  },
  {
   "cell_type": "markdown",
   "id": "8c46eb60-2660-436f-995c-d707e5c92201",
   "metadata": {},
   "source": [
    "## Parameterization"
   ]
  },
  {
   "cell_type": "markdown",
   "id": "be0ba97c-4018-4295-8713-8148c41b86e5",
   "metadata": {},
   "source": [
    "| Parameter                              | Symbol      | Value |\n",
    "| -------------------------------------- | ----------- | ------- |\n",
    "| Discount factor                        | $\\beta$     | 0.99    |\n",
    "| EIS of country $j$                     | $\\gamma^j$  | $a+(j-1)(b-a)/(N-1)$ with $a=0.25$, $b=1$   |\n",
    "| Capital share                          | $\\zeta$     | 0.36    |\n",
    "| Depreciation                           | $\\delta$    | 0.01    |\n",
    "| Std. of log-productivity shocks        | $\\sigma$    | 0.01    |\n",
    "| Autocorrelation of log productivity    | $\\rho$      | 0.95    |\n",
    "| Intensity of capital adjustment costs  | $\\phi$      | 0.50    |\n",
    "| Aggregate productivity                 | $A$         | $(1-\\beta(1-\\delta))/(\\zeta-\\beta)$    |\n",
    "| Welfare weights                        | $\\tau^j$    | $A^{1/\\gamma^j}$    |\n",
    "| Number of countries                    | $N$         | $\\{ 2, \\ldots, 50 \\}$    |"
   ]
  },
  {
   "cell_type": "code",
   "execution_count": null,
   "id": "71d6fcfa-f2eb-41b5-9daa-1118f92936f4",
   "metadata": {},
   "outputs": [],
   "source": []
  }
 ],
 "metadata": {
  "kernelspec": {
   "display_name": "Python 3 (ipykernel)",
   "language": "python",
   "name": "python3"
  },
  "language_info": {
   "codemirror_mode": {
    "name": "ipython",
    "version": 3
   },
   "file_extension": ".py",
   "mimetype": "text/x-python",
   "name": "python",
   "nbconvert_exporter": "python",
   "pygments_lexer": "ipython3",
   "version": "3.13.2"
  }
 },
 "nbformat": 4,
 "nbformat_minor": 5
}
