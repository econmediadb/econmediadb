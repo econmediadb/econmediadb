{
 "cells": [
  {
   "cell_type": "markdown",
   "id": "c579198f-2984-4748-8701-9d32ee7a6b4a",
   "metadata": {},
   "source": [
    "# Taylor Series"
   ]
  },
  {
   "cell_type": "code",
   "execution_count": 1,
   "id": "83fa60ce-8d2e-470b-93f0-830ee2debd7f",
   "metadata": {},
   "outputs": [
    {
     "ename": "ModuleNotFoundError",
     "evalue": "No module named 'sympy'",
     "output_type": "error",
     "traceback": [
      "\u001b[0;31m---------------------------------------------------------------------------\u001b[0m",
      "\u001b[0;31mModuleNotFoundError\u001b[0m                       Traceback (most recent call last)",
      "Cell \u001b[0;32mIn[1], line 5\u001b[0m\n\u001b[1;32m      3\u001b[0m plt\u001b[38;5;241m.\u001b[39mstyle\u001b[38;5;241m.\u001b[39muse(\u001b[38;5;124m'\u001b[39m\u001b[38;5;124mgrayscale\u001b[39m\u001b[38;5;124m'\u001b[39m)\n\u001b[1;32m      4\u001b[0m \u001b[38;5;28;01mimport\u001b[39;00m \u001b[38;5;21;01mnumpy\u001b[39;00m \u001b[38;5;28;01mas\u001b[39;00m \u001b[38;5;21;01mnp\u001b[39;00m\n\u001b[0;32m----> 5\u001b[0m \u001b[38;5;28;01mimport\u001b[39;00m \u001b[38;5;21;01msympy\u001b[39;00m\n",
      "\u001b[0;31mModuleNotFoundError\u001b[0m: No module named 'sympy'"
     ]
    }
   ],
   "source": [
    "from math import factorial, sqrt\n",
    "import matplotlib.pyplot as plt\n",
    "plt.style.use('grayscale')\n",
    "import numpy as np\n",
    "import sympy"
   ]
  },
  {
   "cell_type": "code",
   "execution_count": null,
   "id": "b6dd557e-20c7-440b-8871-6f2c1344f7eb",
   "metadata": {},
   "outputs": [],
   "source": [
    "# Test de l'expansion en série de Taylor\n",
    "# pour $f(x) = x^2$.\n",
    "f = lambda x : x**2\n",
    "fp = lambda x : 2*x\n",
    "fpp = lambda x : 2"
   ]
  },
  {
   "cell_type": "code",
   "execution_count": null,
   "id": "8ebb2d9f-0de8-4216-a6fd-8052e6ef3760",
   "metadata": {},
   "outputs": [],
   "source": [
    "x_0 = 2\n",
    "taylor_f = lambda h : f(x_0) + fp(x_0) * h + fpp(x_0) * h**2/2"
   ]
  },
  {
   "cell_type": "code",
   "execution_count": null,
   "id": "3087e5da-d4f7-4994-8c8b-2c3578a714a2",
   "metadata": {},
   "outputs": [],
   "source": [
    "print(f(2 + 0.3))\n",
    "#> 5.29\n",
    "print(taylor_f(0.3))\n",
    "#> 5.29"
   ]
  },
  {
   "cell_type": "code",
   "execution_count": null,
   "id": "b6a90bf9-5c1b-48a7-b557-444ed4b2ea00",
   "metadata": {},
   "outputs": [],
   "source": [
    "# Test de l'expansion en série de Taylor\n",
    "# pour $f(x) = \\sqrt{x}$.\n",
    "# à l'ordre 3\n",
    "f = lambda x : sqrt(x)\n",
    "fp = lambda x : 1 / (2*sqrt(x))\n",
    "fpp = lambda x : -1 / (4 * x * sqrt(x))\n",
    "fppp = lambda x : (3 * sqrt(x)) / (8 * x**3)"
   ]
  },
  {
   "cell_type": "code",
   "execution_count": null,
   "id": "c7eba291-5f79-4360-ad65-7b62974c3771",
   "metadata": {},
   "outputs": [],
   "source": [
    "taylor_f = lambda h : f(x_0) + fp(x_0) * h + fpp(x_0) * h**2/2 + fppp(x_0) * h**3/factorial(3)"
   ]
  },
  {
   "cell_type": "code",
   "execution_count": null,
   "id": "07e3eb72-6c5f-48da-98aa-c7b02b894ca2",
   "metadata": {},
   "outputs": [],
   "source": [
    "print(f(2 + 0.3))\n",
    "#> 1.51657508881031\n",
    "print(taylor_f(0.3))\n",
    "#> 1.5166004145802159"
   ]
  },
  {
   "cell_type": "code",
   "execution_count": null,
   "id": "981ea348-844c-467f-ad68-2d1514166753",
   "metadata": {},
   "outputs": [],
   "source": [
    "# Ajout d'un terme\n",
    "# pour voir le gain en précision.\n",
    "fpppp = lambda x : -15/(16*x**(7/2))\n",
    "taylor_f = lambda h : f(x_0) + fp(x_0) * h + fpp(x_0) * h**2/2 + fppp(x_0) * h**3/factorial(3) + fpppp(x_0) * h**4/factorial(4)"
   ]
  },
  {
   "cell_type": "code",
   "execution_count": null,
   "id": "14c29cf2-5c6b-4fb4-957a-da4c336e8b45",
   "metadata": {},
   "outputs": [],
   "source": [
    "# De manière approximative\n",
    "# ajouter un ordre fait gagner\n",
    "# une décimale.\n",
    "print(taylor_f(0.3))\n",
    "#> 1.5165724479545928"
   ]
  },
  {
   "cell_type": "code",
   "execution_count": null,
   "id": "b551f3df-fc2b-43e6-a939-cd60dee734f2",
   "metadata": {},
   "outputs": [],
   "source": [
    "taylor_f = lambda h : f(x_0) + fp(x_0) * h + fpp(x_0) * h**2/2 + fppp(x_0) * h**3/factorial(3)\n",
    "X = np.linspace(0, 4, 100)\n",
    "Y = [f(x) for x in X]\n",
    "taylor_Y = [taylor_f(x-2) for x in X]\n"
   ]
  },
  {
   "cell_type": "code",
   "execution_count": null,
   "id": "63b1ce07-9f38-4096-a2d5-29f140f23c4d",
   "metadata": {},
   "outputs": [],
   "source": [
    "plt.plot(X, Y, label='sqrt(x)')\n",
    "plt.plot(X, taylor_Y, '-.', label='Expansion de Taylor de sqrt(x)')\n",
    "plt.legend()\n",
    "plt.show()"
   ]
  }
 ],
 "metadata": {
  "kernelspec": {
   "display_name": "Python 3 (ipykernel)",
   "language": "python",
   "name": "python3"
  },
  "language_info": {
   "codemirror_mode": {
    "name": "ipython",
    "version": 3
   },
   "file_extension": ".py",
   "mimetype": "text/x-python",
   "name": "python",
   "nbconvert_exporter": "python",
   "pygments_lexer": "ipython3",
   "version": "3.12.3"
  }
 },
 "nbformat": 4,
 "nbformat_minor": 5
}
