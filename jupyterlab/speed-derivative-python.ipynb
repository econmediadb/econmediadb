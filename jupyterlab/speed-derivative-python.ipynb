{
 "cells": [
  {
   "cell_type": "markdown",
   "id": "475e5b04-5a27-4da1-9625-d9e3b7d3470a",
   "metadata": {},
   "source": [
    "# Speed Derivative"
   ]
  },
  {
   "cell_type": "code",
   "execution_count": 1,
   "id": "acb652a0-d640-480e-8f85-6a42aee4d00f",
   "metadata": {},
   "outputs": [],
   "source": [
    "# Calcul de la position à un instant t\n",
    "# si le déplacement se fait à vitesse constante $V$.\n",
    "def position(V, t):\n",
    "    return V * t"
   ]
  },
  {
   "cell_type": "code",
   "execution_count": 2,
   "id": "ded09605-4993-4185-8603-6c5e50ef75e1",
   "metadata": {},
   "outputs": [],
   "source": [
    "# Fonction générique pour calculer la dérivée\n",
    "# d'une fonction $f$ en un point $x$\n",
    "# en prenant h suffisamment petit.\n",
    "def derivative(f, x, h=1e-3):\n",
    "    return (f(x+h) - f(x)) / h"
   ]
  },
  {
   "cell_type": "code",
   "execution_count": 3,
   "id": "4c5af82a-3da3-495a-a3af-49717e39b2ca",
   "metadata": {},
   "outputs": [
    {
     "name": "stdout",
     "output_type": "stream",
     "text": [
      "4.9999999999954525\n"
     ]
    }
   ],
   "source": [
    "# Calcul de la vitesse instantanée à un instant $t = 15$,\n",
    "# pour une vitesse constante de 5.\n",
    "print(derivative(lambda x : position(5, x), 15))\n",
    "# > 4.9999999999954525"
   ]
  },
  {
   "cell_type": "code",
   "execution_count": null,
   "id": "bf6004a1-d6e7-4b57-8565-fb217bf20526",
   "metadata": {},
   "outputs": [],
   "source": []
  }
 ],
 "metadata": {
  "kernelspec": {
   "display_name": "Python 3 (ipykernel)",
   "language": "python",
   "name": "python3"
  },
  "language_info": {
   "codemirror_mode": {
    "name": "ipython",
    "version": 3
   },
   "file_extension": ".py",
   "mimetype": "text/x-python",
   "name": "python",
   "nbconvert_exporter": "python",
   "pygments_lexer": "ipython3",
   "version": "3.12.3"
  }
 },
 "nbformat": 4,
 "nbformat_minor": 5
}
