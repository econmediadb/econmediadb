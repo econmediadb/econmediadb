{
 "cells": [
  {
   "cell_type": "code",
   "execution_count": null,
   "metadata": {},
   "outputs": [],
   "source": []
  },
  {
   "cell_type": "code",
   "execution_count": 1,
   "metadata": {},
   "outputs": [
    {
     "name": "stdout",
     "output_type": "stream",
     "text": [
      "Data downloaded successfully!\n"
     ]
    }
   ],
   "source": [
    "import requests\n",
    "\n",
    "url = \"https://nsi-demo-stable.siscc.org/rest/dataflow/OECD/DF_KEI/1.0?references=all&detail=referencepartial\"\n",
    "response = requests.get(url)\n",
    "\n",
    "if response.status_code == 200:\n",
    "    print(\"Data downloaded successfully!\")\n",
    "    # Do something with the data\n",
    "else:\n",
    "    print(\"Error downloading data.\")\n"
   ]
  },
  {
   "cell_type": "code",
   "execution_count": 2,
   "metadata": {},
   "outputs": [
    {
     "name": "stdout",
     "output_type": "stream",
     "text": [
      "\n",
      "Variable names that have been loaded:\n",
      "In\n",
      "Out\n",
      "exit\n",
      "get_ipython\n",
      "open\n",
      "quit\n",
      "requests\n",
      "response\n",
      "url\n"
     ]
    }
   ],
   "source": [
    "\n",
    "# View the variable names that have been loaded\n",
    "print(\"\\nVariable names that have been loaded:\")\n",
    "for name in dir():\n",
    "    if not name.startswith('_'):\n",
    "        print(name)\n"
   ]
  },
  {
   "cell_type": "code",
   "execution_count": 3,
   "metadata": {},
   "outputs": [
    {
     "name": "stdout",
     "output_type": "stream",
     "text": [
      "\n",
      "Data types of the variables:\n",
      "Variable 'response': <class 'requests.models.Response'>\n"
     ]
    }
   ],
   "source": [
    "\n",
    "# View the data types of the variables\n",
    "print(\"\\nData types of the variables:\")\n",
    "# Replace the variable names with the ones you want to check\n",
    "print(\"Variable 'response':\", type(response))\n",
    "\n"
   ]
  },
  {
   "cell_type": "code",
   "execution_count": null,
   "metadata": {},
   "outputs": [],
   "source": []
  }
 ],
 "metadata": {
  "kernelspec": {
   "display_name": "Python 3 (ipykernel)",
   "language": "python",
   "name": "python3"
  },
  "language_info": {
   "codemirror_mode": {
    "name": "ipython",
    "version": 3
   },
   "file_extension": ".py",
   "mimetype": "text/x-python",
   "name": "python",
   "nbconvert_exporter": "python",
   "pygments_lexer": "ipython3",
   "version": "3.12.0"
  }
 },
 "nbformat": 4,
 "nbformat_minor": 4
}
