{
 "cells": [
  {
   "cell_type": "markdown",
   "id": "8f378c4b-cfaa-4121-a333-5b2077b573be",
   "metadata": {},
   "source": [
    "# Hermite Interpolation\n",
    "\n",
    "Source: Saupin (2023) p.88; see also [Numerical Analysis with Python](https://yaningliucudenver.github.io/Numerical-Analysis-I/bookintro.html) by Yaning Liu, Giray Okten"
   ]
  },
  {
   "cell_type": "code",
   "execution_count": 2,
   "id": "c264e233-cd6b-4d36-ba61-fe51b108ebce",
   "metadata": {},
   "outputs": [],
   "source": [
    "from collections import namedtuple\n",
    "import matplotlib.pyplot as plt\n",
    "from functools import reduce\n",
    "import numpy as np"
   ]
  },
  {
   "cell_type": "code",
   "execution_count": 3,
   "id": "47e4cc31-2cc8-4455-88cc-5feeb82c51b9",
   "metadata": {},
   "outputs": [],
   "source": [
    "def lagrange(xs, i):\n",
    "    n = len(xs)\n",
    "    den = reduce(lambda a, b : a * b,\n",
    "                 [(xs[i] - xs[j]) for j in range(0, n) if j != i])\n",
    "    return lambda x : reduce(lambda a, b : a * b,\n",
    "                 [(x - xs[j]) for j in range(0, n) if j != i]) / den"
   ]
  },
  {
   "cell_type": "code",
   "execution_count": 4,
   "id": "bf16b295-dbdc-42a1-91fb-bb9b2598ee73",
   "metadata": {},
   "outputs": [],
   "source": [
    "def lagrangep(xs, i):\n",
    "    n = len(xs)\n",
    "    den = reduce(lambda a, b : a * b,\n",
    "                 [(xs[i] - xs[j]) for j in range(0, n) if j != i])\n",
    "    idx = set(range(0, n))\n",
    "    return lambda x : np.sum([reduce(lambda a, b: a*b, [x - xs[k] for k in idx - {j,i}])\n",
    "                              for j in range(0, n) if j != i]) / den"
   ]
  },
  {
   "cell_type": "code",
   "execution_count": 5,
   "id": "8655e37e-a8a5-480d-b44c-f2eea06e7a3b",
   "metadata": {},
   "outputs": [],
   "source": [
    "def q(xs, i):\n",
    "    return lambda x: lagrange(xs, i)(x)**2"
   ]
  },
  {
   "cell_type": "code",
   "execution_count": 6,
   "id": "f1e6850e-e8e5-4b5c-9e7a-bf82f787b317",
   "metadata": {},
   "outputs": [],
   "source": [
    "def qp(xs, i):\n",
    "    return lambda x: 2 * lagrangep(xs, i)(x) * lagrange(xs, i)(x)"
   ]
  },
  {
   "cell_type": "code",
   "execution_count": 7,
   "id": "5a4c8771-cc90-4344-a012-f7da41c7c5d6",
   "metadata": {},
   "outputs": [],
   "source": [
    "def derivative_part(xs, f_i, fp_i, i):\n",
    "    qp_i = qp(xs, i)\n",
    "    return lambda x : f_i + (x - xs[i]) * (fp_i - qp_i(xs[i]) * f_i)"
   ]
  },
  {
   "cell_type": "code",
   "execution_count": 8,
   "id": "b77764b3-d3fe-4899-a217-7b7447465ebd",
   "metadata": {},
   "outputs": [],
   "source": [
    "def hermite(xs, f_i, fp_i, i):\n",
    "    return lambda x: q(xs, i)(x) * derivative_part(xs, f_i, fp_i, i)(x)"
   ]
  },
  {
   "cell_type": "code",
   "execution_count": 9,
   "id": "63625510-6b92-461c-83be-648c82d1e220",
   "metadata": {},
   "outputs": [],
   "source": [
    "def diff(f, x, h=1e-4):\n",
    "    return (f(x + h) - f(x)) / h"
   ]
  },
  {
   "cell_type": "code",
   "execution_count": 10,
   "id": "abb2dc96-6e6c-4161-a92e-1e9b72d76b4a",
   "metadata": {},
   "outputs": [],
   "source": [
    "xs = [1, 2, 3]\n",
    "P_A = hermite(xs, 1, 1, 0)\n",
    "P_B = hermite(xs, 3, 0, 1)\n",
    "P_C = hermite(xs, -1, -1, 2)"
   ]
  },
  {
   "cell_type": "code",
   "execution_count": 11,
   "id": "4acb5aa9-12e1-444f-9b23-d50f3e16c176",
   "metadata": {},
   "outputs": [],
   "source": [
    "# Polynôme de Hermite.\n",
    "P_h = lambda x: P_A(x) + P_B(x) + P_C(x)"
   ]
  },
  {
   "cell_type": "code",
   "execution_count": 12,
   "id": "b66427ba-b1df-4757-b7e2-b926854b2af0",
   "metadata": {},
   "outputs": [
    {
     "name": "stdout",
     "output_type": "stream",
     "text": [
      "P_h(1) : 1.0\n",
      "P_h(2) : 3.0\n",
      "P_h(3) : -1.0\n"
     ]
    }
   ],
   "source": [
    "# Vérifions les ordonnées.\n",
    "print(f\"P_h(1) : {P_h(1)}\")\n",
    "print(f\"P_h(2) : {P_h(2)}\")\n",
    "print(f\"P_h(3) : {P_h(3)}\")\n",
    "# $P_h(A.x) : 1.0$\n",
    "# $P_h(B.x) : 3.0$\n",
    "# $P_h(C.x) : -1.0$"
   ]
  },
  {
   "cell_type": "code",
   "execution_count": 13,
   "id": "d85fef18-fb8b-44ce-9a13-145830b72c0c",
   "metadata": {},
   "outputs": [
    {
     "name": "stdout",
     "output_type": "stream",
     "text": [
      "diff P_h(1): 1.000200024992015\n",
      "diff P_h(1): -0.0005500249988799055\n",
      "diff P_h(3): -0.9982997749924394\n"
     ]
    }
   ],
   "source": [
    "# Vérifions les dérivées.\n",
    "print(f\"diff P_h(1): {diff(P_h, 1)}\")\n",
    "print(f\"diff P_h(1): {diff(P_h, 2)}\")\n",
    "print(f\"diff P_h(3): {diff(P_h, 3)}\")\n",
    "# $P_h(A.x) : 1.0002$\n",
    "# $P_h(B.x) : -0.00055$\n",
    "# $P_h(C.x) : -0.99829$"
   ]
  },
  {
   "cell_type": "code",
   "execution_count": 14,
   "id": "048ea48e-9e06-4bd4-addc-665b7c68fe85",
   "metadata": {},
   "outputs": [
    {
     "data": {
      "image/png": "[encoded data removed]",
      "text/plain": [
       "<Figure size 640x480 with 1 Axes>"
      ]
     },
     "metadata": {},
     "output_type": "display_data"
    }
   ],
   "source": [
    "X = np.linspace(1, 3, 100)\n",
    "Y = [P_h(x) for x in X]\n",
    "plt.plot(X, Y)\n",
    "plt.scatter([1, 2, 3], [1, 3, -1])\n",
    "plt.show()"
   ]
  },
  {
   "cell_type": "code",
   "execution_count": null,
   "id": "0f900b18-32be-4dd6-9abf-05bfb9f044a1",
   "metadata": {},
   "outputs": [],
   "source": []
  }
 ],
 "metadata": {
  "kernelspec": {
   "display_name": "Python 3 (ipykernel)",
   "language": "python",
   "name": "python3"
  },
  "language_info": {
   "codemirror_mode": {
    "name": "ipython",
    "version": 3
   },
   "file_extension": ".py",
   "mimetype": "text/x-python",
   "name": "python",
   "nbconvert_exporter": "python",
   "pygments_lexer": "ipython3",
   "version": "3.12.3"
  }
 },
 "nbformat": 4,
 "nbformat_minor": 5
}
