{
 "cells": [
  {
   "cell_type": "markdown",
   "id": "f990b7e1-1e01-425b-888f-a2415ccf9b63",
   "metadata": {},
   "source": [
    "# Mathematical Functions\n",
    "\n",
    "Source: Saupin (2023)\n",
    "\n",
    "These examples are useful to construct your own mathematical functions.\n"
   ]
  },
  {
   "cell_type": "markdown",
   "id": "c352d069-0953-4d18-b8a4-7c1c3154934f",
   "metadata": {},
   "source": [
    "## Identity function"
   ]
  },
  {
   "cell_type": "code",
   "execution_count": 2,
   "id": "d293bf28-e11e-4593-9315-280407f31b42",
   "metadata": {},
   "outputs": [],
   "source": [
    "def identity(x):\n",
    "    return x\n",
    "from functools import reduce"
   ]
  },
  {
   "cell_type": "markdown",
   "id": "3ee81d82-7dc1-4a4c-af1e-e8b319067f15",
   "metadata": {},
   "source": [
    "## Square function"
   ]
  },
  {
   "cell_type": "code",
   "execution_count": 3,
   "id": "c651369a-699d-43cf-9db5-72c167586a5b",
   "metadata": {},
   "outputs": [],
   "source": [
    "def square(x):\n",
    "    return x * x"
   ]
  },
  {
   "cell_type": "markdown",
   "id": "5c00e5f3-f0dc-4fef-a8cb-b99fe00d8b57",
   "metadata": {},
   "source": [
    "## Inverse function\n",
    "Domaine of definition $\\mathbb{R} \\setminus 0$"
   ]
  },
  {
   "cell_type": "code",
   "execution_count": 4,
   "id": "ac4ef1ba-420f-466d-8bb5-ff5adefc06e3",
   "metadata": {},
   "outputs": [],
   "source": [
    "def inverse(x):\n",
    "    return 1/x"
   ]
  },
  {
   "cell_type": "markdown",
   "id": "56054e0a-14dd-4592-8030-dd8a3c725f33",
   "metadata": {},
   "source": [
    "## Polynomial function"
   ]
  },
  {
   "cell_type": "code",
   "execution_count": 5,
   "id": "73fa94c5-873f-4bc3-bef9-f4f0c32d379d",
   "metadata": {},
   "outputs": [
    {
     "name": "stdout",
     "output_type": "stream",
     "text": [
      "6\n",
      "36\n",
      "0.5\n",
      "6\n"
     ]
    }
   ],
   "source": [
    "def polynome(A, x):\n",
    "    return reduce(lambda a, b: a + b,\n",
    "                  [a_i * x**i for i, a_i in enumerate(A)], 0)\n",
    "\n",
    "print(identity(6))\n",
    "#> 6\n",
    "print(square(6))\n",
    "#> 36\n",
    "print(inverse(2))\n",
    "#> 0.5\n",
    "\n",
    "# The inverse of 0 is not allowed\n",
    "#print(inverse(0))\n",
    "#> ZeroDivisionError: division by zero\n",
    "print(polynome([1, 2, 3], 1))\n",
    "#> 6"
   ]
  },
  {
   "cell_type": "markdown",
   "id": "86f05e4e-c598-4338-b590-d57cc9297a02",
   "metadata": {},
   "source": [
    "## Iterative defintion of power function\n",
    "$f : x \\rightarrow x^n$"
   ]
  },
  {
   "cell_type": "code",
   "execution_count": 6,
   "id": "882870cb-4c2b-4911-91c5-4f8bb921ca8f",
   "metadata": {},
   "outputs": [],
   "source": [
    "def iterative_power(x, n):\n",
    "    #utilisation d'une variable power\n",
    "    power = 1\n",
    "    for i in range(0, n):\n",
    "        power = power * x\n",
    "    return power"
   ]
  },
  {
   "cell_type": "markdown",
   "id": "3c3eb0ad-2407-4ab6-a285-6a1732582479",
   "metadata": {},
   "source": [
    "## Functional definiton of power function\n",
    "$f : x \\rightarrow x^n$"
   ]
  },
  {
   "cell_type": "code",
   "execution_count": 7,
   "id": "4852e329-45f9-4904-b7e1-db262d676712",
   "metadata": {},
   "outputs": [
    {
     "name": "stdout",
     "output_type": "stream",
     "text": [
      "16\n",
      "8\n"
     ]
    }
   ],
   "source": [
    "def functional_power(x, n):\n",
    "    return x * functional_power(x, n-1) if n != 1 else 1\n",
    "\n",
    "print(iterative_power(2, 4))\n",
    "#> 16\n",
    "print(functional_power(2, 4))\n",
    "#> 16"
   ]
  },
  {
   "cell_type": "code",
   "execution_count": null,
   "id": "fa978f1f-11f3-4462-af09-28308549a9cd",
   "metadata": {},
   "outputs": [],
   "source": []
  }
 ],
 "metadata": {
  "kernelspec": {
   "display_name": "Python 3 (ipykernel)",
   "language": "python",
   "name": "python3"
  },
  "language_info": {
   "codemirror_mode": {
    "name": "ipython",
    "version": 3
   },
   "file_extension": ".py",
   "mimetype": "text/x-python",
   "name": "python",
   "nbconvert_exporter": "python",
   "pygments_lexer": "ipython3",
   "version": "3.12.3"
  }
 },
 "nbformat": 4,
 "nbformat_minor": 5
}
