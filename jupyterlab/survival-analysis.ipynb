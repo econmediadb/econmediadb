{
 "cells": [
  {
   "cell_type": "markdown",
   "metadata": {},
   "source": [
    "# Survival analysis"
   ]
  },
  {
   "cell_type": "code",
   "execution_count": 1,
   "metadata": {},
   "outputs": [],
   "source": [
    "using Pkg"
   ]
  },
  {
   "cell_type": "code",
   "execution_count": 19,
   "metadata": {},
   "outputs": [
    {
     "name": "stderr",
     "output_type": "stream",
     "text": [
      "\u001b[32m\u001b[1m   Resolving\u001b[22m\u001b[39m package versions...\n",
      "\u001b[32m\u001b[1m  No Changes\u001b[22m\u001b[39m to `~/.julia/environments/v1.9/Project.toml`\n",
      "\u001b[32m\u001b[1m  No Changes\u001b[22m\u001b[39m to `~/.julia/environments/v1.9/Manifest.toml`\n",
      "\u001b[32m\u001b[1m   Resolving\u001b[22m\u001b[39m package versions...\n",
      "\u001b[32m\u001b[1m  No Changes\u001b[22m\u001b[39m to `~/.julia/environments/v1.9/Project.toml`\n",
      "\u001b[32m\u001b[1m  No Changes\u001b[22m\u001b[39m to `~/.julia/environments/v1.9/Manifest.toml`\n",
      "\u001b[32m\u001b[1m   Resolving\u001b[22m\u001b[39m package versions...\n",
      "\u001b[32m\u001b[1m    Updating\u001b[22m\u001b[39m `~/.julia/environments/v1.9/Project.toml`\n",
      "  \u001b[90m[3eaba693] \u001b[39m\u001b[92m+ StatsModels v0.7.3\u001b[39m\n",
      "\u001b[32m\u001b[1m  No Changes\u001b[22m\u001b[39m to `~/.julia/environments/v1.9/Manifest.toml`\n"
     ]
    }
   ],
   "source": [
    "Pkg.add(\"Survival\")\n",
    "Pkg.add(\"DataFrames\")\n",
    "Pkg.add(\"StatsModels\")"
   ]
  },
  {
   "cell_type": "code",
   "execution_count": null,
   "metadata": {},
   "outputs": [],
   "source": []
  },
  {
   "cell_type": "markdown",
   "metadata": {},
   "source": [
    "## Cox proportional hazards regression model"
   ]
  },
  {
   "cell_type": "code",
   "execution_count": 20,
   "metadata": {},
   "outputs": [],
   "source": [
    "using Survival, StatsModels, CSV, DataFrames"
   ]
  },
  {
   "cell_type": "code",
   "execution_count": 21,
   "metadata": {},
   "outputs": [],
   "source": [
    "rossi = CSV.read(joinpath(pkgdir(Survival), \"test\", \"data\", \"rossi.csv\"), DataFrame);"
   ]
  },
  {
   "cell_type": "code",
   "execution_count": 22,
   "metadata": {},
   "outputs": [],
   "source": [
    "rossi.event = EventTime.(rossi.week, rossi.arrest .== 1);"
   ]
  },
  {
   "cell_type": "code",
   "execution_count": 23,
   "metadata": {},
   "outputs": [
    {
     "data": {
      "text/html": [
       "<div><div style = \"float: left;\"><span>10×10 DataFrame</span></div><div style = \"clear: both;\"></div></div><div class = \"data-frame\" style = \"overflow-x: scroll;\"><table class = \"data-frame\" style = \"margin-bottom: 6px;\"><thead><tr class = \"header\"><th class = \"rowNumber\" style = \"font-weight: bold; text-align: right;\">Row</th><th style = \"text-align: left;\">arrest</th><th style = \"text-align: left;\">week</th><th style = \"text-align: left;\">fin</th><th style = \"text-align: left;\">age</th><th style = \"text-align: left;\">race</th><th style = \"text-align: left;\">wexp</th><th style = \"text-align: left;\">mar</th><th style = \"text-align: left;\">paro</th><th style = \"text-align: left;\">prio</th><th style = \"text-align: left;\">event</th></tr><tr class = \"subheader headerLastRow\"><th class = \"rowNumber\" style = \"font-weight: bold; text-align: right;\"></th><th title = \"Int64\" style = \"text-align: left;\">Int64</th><th title = \"Int64\" style = \"text-align: left;\">Int64</th><th title = \"Int64\" style = \"text-align: left;\">Int64</th><th title = \"Int64\" style = \"text-align: left;\">Int64</th><th title = \"Int64\" style = \"text-align: left;\">Int64</th><th title = \"Int64\" style = \"text-align: left;\">Int64</th><th title = \"Int64\" style = \"text-align: left;\">Int64</th><th title = \"Int64\" style = \"text-align: left;\">Int64</th><th title = \"Int64\" style = \"text-align: left;\">Int64</th><th title = \"EventTime{Int64}\" style = \"text-align: left;\">EventTim…</th></tr></thead><tbody><tr><td class = \"rowNumber\" style = \"font-weight: bold; text-align: right;\">1</td><td style = \"text-align: right;\">1</td><td style = \"text-align: right;\">20</td><td style = \"text-align: right;\">0</td><td style = \"text-align: right;\">27</td><td style = \"text-align: right;\">1</td><td style = \"text-align: right;\">0</td><td style = \"text-align: right;\">0</td><td style = \"text-align: right;\">1</td><td style = \"text-align: right;\">3</td><td style = \"text-align: left;\">20</td></tr><tr><td class = \"rowNumber\" style = \"font-weight: bold; text-align: right;\">2</td><td style = \"text-align: right;\">1</td><td style = \"text-align: right;\">17</td><td style = \"text-align: right;\">0</td><td style = \"text-align: right;\">18</td><td style = \"text-align: right;\">1</td><td style = \"text-align: right;\">0</td><td style = \"text-align: right;\">0</td><td style = \"text-align: right;\">1</td><td style = \"text-align: right;\">8</td><td style = \"text-align: left;\">17</td></tr><tr><td class = \"rowNumber\" style = \"font-weight: bold; text-align: right;\">3</td><td style = \"text-align: right;\">1</td><td style = \"text-align: right;\">25</td><td style = \"text-align: right;\">0</td><td style = \"text-align: right;\">19</td><td style = \"text-align: right;\">0</td><td style = \"text-align: right;\">1</td><td style = \"text-align: right;\">0</td><td style = \"text-align: right;\">1</td><td style = \"text-align: right;\">13</td><td style = \"text-align: left;\">25</td></tr><tr><td class = \"rowNumber\" style = \"font-weight: bold; text-align: right;\">4</td><td style = \"text-align: right;\">0</td><td style = \"text-align: right;\">52</td><td style = \"text-align: right;\">1</td><td style = \"text-align: right;\">23</td><td style = \"text-align: right;\">1</td><td style = \"text-align: right;\">1</td><td style = \"text-align: right;\">1</td><td style = \"text-align: right;\">1</td><td style = \"text-align: right;\">1</td><td style = \"text-align: left;\">52+</td></tr><tr><td class = \"rowNumber\" style = \"font-weight: bold; text-align: right;\">5</td><td style = \"text-align: right;\">0</td><td style = \"text-align: right;\">52</td><td style = \"text-align: right;\">0</td><td style = \"text-align: right;\">19</td><td style = \"text-align: right;\">0</td><td style = \"text-align: right;\">1</td><td style = \"text-align: right;\">0</td><td style = \"text-align: right;\">1</td><td style = \"text-align: right;\">3</td><td style = \"text-align: left;\">52+</td></tr><tr><td class = \"rowNumber\" style = \"font-weight: bold; text-align: right;\">6</td><td style = \"text-align: right;\">0</td><td style = \"text-align: right;\">52</td><td style = \"text-align: right;\">0</td><td style = \"text-align: right;\">24</td><td style = \"text-align: right;\">1</td><td style = \"text-align: right;\">1</td><td style = \"text-align: right;\">0</td><td style = \"text-align: right;\">0</td><td style = \"text-align: right;\">2</td><td style = \"text-align: left;\">52+</td></tr><tr><td class = \"rowNumber\" style = \"font-weight: bold; text-align: right;\">7</td><td style = \"text-align: right;\">1</td><td style = \"text-align: right;\">23</td><td style = \"text-align: right;\">0</td><td style = \"text-align: right;\">25</td><td style = \"text-align: right;\">1</td><td style = \"text-align: right;\">1</td><td style = \"text-align: right;\">1</td><td style = \"text-align: right;\">1</td><td style = \"text-align: right;\">0</td><td style = \"text-align: left;\">23</td></tr><tr><td class = \"rowNumber\" style = \"font-weight: bold; text-align: right;\">8</td><td style = \"text-align: right;\">0</td><td style = \"text-align: right;\">52</td><td style = \"text-align: right;\">1</td><td style = \"text-align: right;\">21</td><td style = \"text-align: right;\">1</td><td style = \"text-align: right;\">1</td><td style = \"text-align: right;\">0</td><td style = \"text-align: right;\">1</td><td style = \"text-align: right;\">4</td><td style = \"text-align: left;\">52+</td></tr><tr><td class = \"rowNumber\" style = \"font-weight: bold; text-align: right;\">9</td><td style = \"text-align: right;\">0</td><td style = \"text-align: right;\">52</td><td style = \"text-align: right;\">0</td><td style = \"text-align: right;\">22</td><td style = \"text-align: right;\">1</td><td style = \"text-align: right;\">0</td><td style = \"text-align: right;\">0</td><td style = \"text-align: right;\">0</td><td style = \"text-align: right;\">6</td><td style = \"text-align: left;\">52+</td></tr><tr><td class = \"rowNumber\" style = \"font-weight: bold; text-align: right;\">10</td><td style = \"text-align: right;\">0</td><td style = \"text-align: right;\">52</td><td style = \"text-align: right;\">0</td><td style = \"text-align: right;\">20</td><td style = \"text-align: right;\">1</td><td style = \"text-align: right;\">1</td><td style = \"text-align: right;\">0</td><td style = \"text-align: right;\">0</td><td style = \"text-align: right;\">0</td><td style = \"text-align: left;\">52+</td></tr></tbody></table></div>"
      ],
      "text/latex": [
       "\\begin{tabular}{r|cccccccccc}\n",
       "\t& arrest & week & fin & age & race & wexp & mar & paro & prio & event\\\\\n",
       "\t\\hline\n",
       "\t& Int64 & Int64 & Int64 & Int64 & Int64 & Int64 & Int64 & Int64 & Int64 & EventTim…\\\\\n",
       "\t\\hline\n",
       "\t1 & 1 & 20 & 0 & 27 & 1 & 0 & 0 & 1 & 3 & 20 \\\\\n",
       "\t2 & 1 & 17 & 0 & 18 & 1 & 0 & 0 & 1 & 8 & 17 \\\\\n",
       "\t3 & 1 & 25 & 0 & 19 & 0 & 1 & 0 & 1 & 13 & 25 \\\\\n",
       "\t4 & 0 & 52 & 1 & 23 & 1 & 1 & 1 & 1 & 1 & 52+ \\\\\n",
       "\t5 & 0 & 52 & 0 & 19 & 0 & 1 & 0 & 1 & 3 & 52+ \\\\\n",
       "\t6 & 0 & 52 & 0 & 24 & 1 & 1 & 0 & 0 & 2 & 52+ \\\\\n",
       "\t7 & 1 & 23 & 0 & 25 & 1 & 1 & 1 & 1 & 0 & 23 \\\\\n",
       "\t8 & 0 & 52 & 1 & 21 & 1 & 1 & 0 & 1 & 4 & 52+ \\\\\n",
       "\t9 & 0 & 52 & 0 & 22 & 1 & 0 & 0 & 0 & 6 & 52+ \\\\\n",
       "\t10 & 0 & 52 & 0 & 20 & 1 & 1 & 0 & 0 & 0 & 52+ \\\\\n",
       "\\end{tabular}\n"
      ],
      "text/plain": [
       "\u001b[1m10×10 DataFrame\u001b[0m\n",
       "\u001b[1m Row \u001b[0m│\u001b[1m arrest \u001b[0m\u001b[1m week  \u001b[0m\u001b[1m fin   \u001b[0m\u001b[1m age   \u001b[0m\u001b[1m race  \u001b[0m\u001b[1m wexp  \u001b[0m\u001b[1m mar   \u001b[0m\u001b[1m paro  \u001b[0m\u001b[1m prio  \u001b[0m\u001b[1m event  \u001b[0m ⋯\n",
       "     │\u001b[90m Int64  \u001b[0m\u001b[90m Int64 \u001b[0m\u001b[90m Int64 \u001b[0m\u001b[90m Int64 \u001b[0m\u001b[90m Int64 \u001b[0m\u001b[90m Int64 \u001b[0m\u001b[90m Int64 \u001b[0m\u001b[90m Int64 \u001b[0m\u001b[90m Int64 \u001b[0m\u001b[90m EventTi\u001b[0m ⋯\n",
       "─────┼──────────────────────────────────────────────────────────────────────────\n",
       "   1 │      1     20      0     27      1      0      0      1      3  20      ⋯\n",
       "   2 │      1     17      0     18      1      0      0      1      8  17\n",
       "   3 │      1     25      0     19      0      1      0      1     13  25\n",
       "   4 │      0     52      1     23      1      1      1      1      1  52+\n",
       "   5 │      0     52      0     19      0      1      0      1      3  52+     ⋯\n",
       "   6 │      0     52      0     24      1      1      0      0      2  52+\n",
       "   7 │      1     23      0     25      1      1      1      1      0  23\n",
       "   8 │      0     52      1     21      1      1      0      1      4  52+\n",
       "   9 │      0     52      0     22      1      0      0      0      6  52+     ⋯\n",
       "  10 │      0     52      0     20      1      1      0      0      0  52+\n",
       "\u001b[36m                                                                1 column omitted\u001b[0m"
      ]
     },
     "execution_count": 23,
     "metadata": {},
     "output_type": "execute_result"
    }
   ],
   "source": [
    "first(rossi, 10)"
   ]
  },
  {
   "cell_type": "code",
   "execution_count": 24,
   "metadata": {},
   "outputs": [
    {
     "data": {
      "text/plain": [
       "StatsModels.TableRegressionModel{CoxModel{Float64}, Matrix{Float64}}\n",
       "\n",
       "event ~ fin + age + race + wexp + mar + paro + prio\n",
       "\n",
       "Coefficients:\n",
       "────────────────────────────────────────────────\n",
       "        Estimate  Std.Error    z value  Pr(>|z|)\n",
       "────────────────────────────────────────────────\n",
       "fin   -0.379422   0.191379   -1.98256     0.0474\n",
       "age   -0.0574377  0.0219995  -2.61087     0.0090\n",
       "race   0.3139     0.307993    1.01918     0.3081\n",
       "wexp  -0.149796   0.212224   -0.705837    0.4803\n",
       "mar   -0.433704   0.381868   -1.13574     0.2561\n",
       "paro  -0.0848711  0.195757   -0.433554    0.6646\n",
       "prio   0.0914971  0.0286485   3.19378     0.0014\n",
       "────────────────────────────────────────────────"
      ]
     },
     "execution_count": 24,
     "metadata": {},
     "output_type": "execute_result"
    }
   ],
   "source": [
    "model = coxph(@formula(event ~ fin + age + race + wexp + mar + paro + prio), rossi)"
   ]
  },
  {
   "cell_type": "code",
   "execution_count": 25,
   "metadata": {},
   "outputs": [
    {
     "data": {
      "text/plain": [
       "7-element Vector{Float64}:\n",
       " -0.37942216648588606\n",
       " -0.05743774268406134\n",
       "  0.3138997878425109\n",
       " -0.14979569766653655\n",
       " -0.4337038779373094\n",
       " -0.08487108250039305\n",
       "  0.09149708098529628"
      ]
     },
     "execution_count": 25,
     "metadata": {},
     "output_type": "execute_result"
    }
   ],
   "source": [
    " coef(model)"
   ]
  },
  {
   "cell_type": "code",
   "execution_count": null,
   "metadata": {},
   "outputs": [],
   "source": []
  }
 ],
 "metadata": {
  "kernelspec": {
   "display_name": "Julia <version> 1.9.3",
   "language": "julia",
   "name": "julia-_version_-1.9"
  },
  "language_info": {
   "file_extension": ".jl",
   "mimetype": "application/julia",
   "name": "julia",
   "version": "1.9.2"
  }
 },
 "nbformat": 4,
 "nbformat_minor": 5
}
