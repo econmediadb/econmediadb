{
 "cells": [
  {
   "cell_type": "markdown",
   "id": "ea1f6695-6c0f-4901-8751-fa40bdb24992",
   "metadata": {},
   "source": [
    "# Constructing Models\n",
    "\n",
    "Source: Saupin (2023); [Wikipedia](https://en.wikipedia.org/wiki/Ideal_gas_law)"
   ]
  },
  {
   "cell_type": "markdown",
   "id": "3ff14519-a8a1-4a04-8ff7-40d62a95123f",
   "metadata": {},
   "source": [
    "In order to understand and describe nature, we will make use of models. These models are mathematical formulas that establish a relation between different physical variables.\n",
    "\n",
    "The ideal gas law, also called the general gas equation, is the equation of state of a hypothetical ideal gas. It is a good approximation of the behavior of many gases under many conditions, although it has several limitations. \n",
    "\n",
    "The ideal gas law is often written in an empirical form: "
   ]
  },
  {
   "cell_type": "markdown",
   "id": "5e1a8b0b-f5fb-4c6e-ad2a-334be4eff290",
   "metadata": {},
   "source": [
    "$$\n",
    "PV = nRT\n",
    "$$"
   ]
  },
  {
   "cell_type": "markdown",
   "id": "75b0b78a-35f2-45fb-bbb9-387419678db0",
   "metadata": {},
   "source": [
    "where $p$, $V$ and $T$ are the pressure, volume and temperature respectively; $n$ is the amount of substance; and $R$ is the ideal gas constant."
   ]
  },
  {
   "cell_type": "markdown",
   "id": "2a716824-b6ae-444d-aec6-8dfe7c8066f9",
   "metadata": {},
   "source": [
    "Parameters are constants that will affect the relation between the variables. In order to define the parameters, we will rely on *fitting* the model. The idea is to start with a set of observations and find the parameters of the model that *fit* best the observed values."
   ]
  },
  {
   "cell_type": "code",
   "execution_count": 1,
   "id": "e097a15e-45a4-4c29-8143-70db6cbe1781",
   "metadata": {},
   "outputs": [],
   "source": [
    "import numpy as np\n",
    "import matplotlib.pyplot as plt\n",
    "plt.style.use('grayscale')"
   ]
  },
  {
   "cell_type": "code",
   "execution_count": 2,
   "id": "3d0ece1c-f9a7-4fc5-a637-13bdc528e16a",
   "metadata": {},
   "outputs": [],
   "source": [
    "n = 1.0 # quantité de matière en mole.\n",
    "R = 8.314 # constante en J K\\textsuperscript{-1} mol\\textsuperscript{-1}"
   ]
  },
  {
   "cell_type": "code",
   "execution_count": 3,
   "id": "adba1356-1263-4898-b05b-9ba34c5a2bf0",
   "metadata": {},
   "outputs": [],
   "source": [
    "# Calcul de la pression selon la\n",
    "# température et le volume.\n",
    "def pression(T, V):\n",
    "    return n * R * T / V"
   ]
  },
  {
   "cell_type": "code",
   "execution_count": 4,
   "id": "f6530aa6-56f6-4a54-8fb5-f540d993f285",
   "metadata": {},
   "outputs": [],
   "source": [
    "# Calcul du volume selon la\n",
    "# température et le volume.\n",
    "def volume(T, P):\n",
    "    return n * R * T / P"
   ]
  },
  {
   "cell_type": "code",
   "execution_count": 5,
   "id": "858650e1-2c46-4818-98c9-d5413d9c4e27",
   "metadata": {},
   "outputs": [],
   "source": [
    "# Calcul de la température selon la\n",
    "# pression et le volume.\n",
    "def temperature(P, V):\n",
    "    return P * V / (n * R)"
   ]
  },
  {
   "cell_type": "code",
   "execution_count": 6,
   "id": "183d1c88-954e-4d52-8a6a-1f7b9bf75fe6",
   "metadata": {},
   "outputs": [],
   "source": [
    "# Conditions normales de température et\n",
    "# de pression.\n",
    "T0 = 273.15 # en Kelvin, soit 0° Celsius\n",
    "P0 = 101325 # en Pascal, soit 1 atmosphère"
   ]
  },
  {
   "cell_type": "code",
   "execution_count": 7,
   "id": "385208d3-9966-402d-aa2b-da20e5cd6f4e",
   "metadata": {},
   "outputs": [],
   "source": [
    "# \\`A l'aide de ces quelques fonctions\n",
    "# il est facile de mener des expériences virtuelles."
   ]
  },
  {
   "cell_type": "code",
   "execution_count": 8,
   "id": "7dd892d8-1e8c-45ae-b67c-80bda90eabd3",
   "metadata": {},
   "outputs": [
    {
     "name": "stdout",
     "output_type": "stream",
     "text": [
      "0.022412722427831235\n"
     ]
    }
   ],
   "source": [
    "# Par exemple, on obtient simplement le volume\n",
    "# occupé par une mole de gaz dans les conditions\n",
    "# normales :\n",
    "print(volume(T0, P0))\n",
    "#> 0.022412722427831235 (en litre)"
   ]
  },
  {
   "cell_type": "code",
   "execution_count": 9,
   "id": "2964518f-e649-481a-84f5-e77e9ca8dcfd",
   "metadata": {},
   "outputs": [
    {
     "name": "stdout",
     "output_type": "stream",
     "text": [
      "273.15\n"
     ]
    }
   ],
   "source": [
    "# On peut vérifier que la température est\n",
    "# la bonne pour la pression normale\n",
    "# et le volume normal :\n",
    "print(temperature(P0,volume(T0, P0)))\n",
    "#> 273.15"
   ]
  },
  {
   "cell_type": "code",
   "execution_count": 10,
   "id": "5abd395b-63d9-4240-b0eb-8ce4308db738",
   "metadata": {},
   "outputs": [
    {
     "name": "stdout",
     "output_type": "stream",
     "text": [
      "546.3\n"
     ]
    }
   ],
   "source": [
    "# En doublant la pression\n",
    "# la température devient :\n",
    "print(temperature(2 * P0,\n",
    "                  volume(T0, P0)))\n",
    "#> 546.3"
   ]
  },
  {
   "cell_type": "code",
   "execution_count": 12,
   "id": "b9bb05be-e4c1-40f0-aae8-436f58dcbc6c",
   "metadata": {},
   "outputs": [
    {
     "data": {
      "image/png": "[encoded data removed]",
      "text/plain": [
       "<Figure size 640x480 with 1 Axes>"
      ]
     },
     "metadata": {},
     "output_type": "display_data"
    }
   ],
   "source": [
    "vs = np.linspace(0.01, 1, 100)\n",
    "plt.plot(vs,\n",
    "         [pression(T0, v) for v in vs],\n",
    "         label='')\n",
    "plt.xlabel('Volume')\n",
    "plt.ylabel('Pression')\n",
    "#plt.legend()\n",
    "plt.show()"
   ]
  },
  {
   "cell_type": "code",
   "execution_count": null,
   "id": "3235332e-d891-4dc1-951e-b97e5b248791",
   "metadata": {},
   "outputs": [],
   "source": []
  }
 ],
 "metadata": {
  "kernelspec": {
   "display_name": "Python 3 (ipykernel)",
   "language": "python",
   "name": "python3"
  },
  "language_info": {
   "codemirror_mode": {
    "name": "ipython",
    "version": 3
   },
   "file_extension": ".py",
   "mimetype": "text/x-python",
   "name": "python",
   "nbconvert_exporter": "python",
   "pygments_lexer": "ipython3",
   "version": "3.12.3"
  }
 },
 "nbformat": 4,
 "nbformat_minor": 5
}
