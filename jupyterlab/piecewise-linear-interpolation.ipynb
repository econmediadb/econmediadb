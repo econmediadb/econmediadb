{
 "cells": [
  {
   "cell_type": "markdown",
   "id": "1322f31c-522e-45c8-88a8-b2825f2b927c",
   "metadata": {},
   "source": [
    "# Functional approximation: Piecewise linear interpolation"
   ]
  },
  {
   "cell_type": "markdown",
   "id": "1c98e6f7-e35c-47ce-b25b-ef444f9d3b66",
   "metadata": {},
   "source": [
    "If $(x_i, y_i)$ is the data, then the *piecewise linear interpolant* $\\hat{f}(x)$ is given by the formula:\n",
    "\\begin{eqnarray}\n",
    " \\hat{f}(x) = y_i + \\frac{x-x_i}{x_{i+1}-x_i} (y_{i+1}-y_i) \\quad \\quad x\\in[x_i,x_{i+1}]\n",
    " \\nonumber\n",
    "\\end{eqnarray}\n",
    " The *julia code* for this interpolation is given by:"
   ]
  },
  {
   "cell_type": "code",
   "execution_count": 1,
   "id": "d3912435-841c-4736-96f8-29ef09dfa008",
   "metadata": {},
   "outputs": [
    {
     "data": {
      "text/plain": [
       "interpolate1D (generic function with 1 method)"
      ]
     },
     "execution_count": 1,
     "metadata": {},
     "output_type": "execute_result"
    }
   ],
   "source": [
    "function interpolate1D(vX, vY, x)\n",
    "    imin = sum(vX.<x);\n",
    "    imax = sum(vX.<x)+1;\n",
    "    y = vY[imin]+( x-vX[imin] )/( vX[imax]-vX[imin] )*(vY[imax]-vY[imin]);\n",
    "    return y\n",
    "end"
   ]
  },
  {
   "cell_type": "code",
   "execution_count": null,
   "id": "574617be-9910-4781-9133-aad2c9ed0884",
   "metadata": {},
   "outputs": [],
   "source": []
  }
 ],
 "metadata": {
  "kernelspec": {
   "display_name": "Julia 1.9.2",
   "language": "julia",
   "name": "julia-1.9"
  },
  "language_info": {
   "file_extension": ".jl",
   "mimetype": "application/julia",
   "name": "julia",
   "version": "1.9.2"
  }
 },
 "nbformat": 4,
 "nbformat_minor": 5
}
