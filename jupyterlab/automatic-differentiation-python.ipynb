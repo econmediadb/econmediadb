{
 "cells": [
  {
   "cell_type": "markdown",
   "id": "ce0cd6ca-795f-499c-a868-a3dcf6814b13",
   "metadata": {},
   "source": [
    "# Automatic Differentiation\n",
    "\n",
    "Source: Saupin (2023) p. 76"
   ]
  },
  {
   "cell_type": "markdown",
   "id": "460307f6-b9ee-42d7-9cd2-9f271e11695c",
   "metadata": {},
   "source": [
    "## Derivation Rules\n",
    "\n",
    "$$\n",
    "(u + v)' = u' + v'\n",
    "$$\n",
    "\n",
    "$$\n",
    "(u - v)' = u' - v'\n",
    "$$\n",
    "\n",
    "$$\n",
    "(u \\times v)' = u'v + uv'\n",
    "$$\n",
    "\n",
    "$$\n",
    "\\left( \\frac{u}{v} \\right)' = \\frac{ u'v - uv' }{ v^2 }\n",
    "$$"
   ]
  },
  {
   "cell_type": "code",
   "execution_count": 1,
   "id": "ef0d87b4-d95e-445b-9d79-74d02b73808c",
   "metadata": {},
   "outputs": [],
   "source": [
    "# Cette classe implémente le mécanisme de\n",
    "# la différentiation automatique.\n",
    "class AutoReal:\n",
    "    # \\`A l'initialisation deux champs sont remplis pour cet objet\n",
    "    # sa valeur $val$ et sa dérivée $der$.\n",
    "    def __init__(self, val, der):\n",
    "        self.val = val\n",
    "        self.der = der\n",
    "\n",
    "    # L'addition suit la formule suivante:\n",
    "    # $(u+v)' = u' + v'$\n",
    "    def __add__(self, b):\n",
    "        if isinstance(b, (float, int)):\n",
    "            b = AutoReal(b, 0)\n",
    "        return AutoReal(self.val + b.val, self.der + b.der)\n",
    "\n",
    "    # La soustraction suit la formule suivante :\n",
    "    # $(u-v)' = u' - v'$\n",
    "    def __sub__(self, b):\n",
    "        if isinstance(b, (float, int)):\n",
    "            b = AutoReal(b, 0)\n",
    "        return AutoReal(self.val - b.val, self.der - b.der)\n",
    "\n",
    "    # La multiplication suit la formule suivante :\n",
    "    # $(u*v)' = u' * v + u * v'$\n",
    "    def __mul__(self, b):\n",
    "        if isinstance(b, (float, int)):\n",
    "            b = AutoReal(b, 0)\n",
    "        return AutoReal(self.val * b.val, self.val * b.der + self.der * b.val)\n",
    "\n",
    "    # La division suit la formule suivante :\n",
    "    # $(\\frac{u}{v})' = \\frac{u' * v - u * v'}{v^2}$\n",
    "    def __div__(self, b):\n",
    "        if isinstance(b, (float, int)):\n",
    "            b = AutoReal(b, 0)\n",
    "        return AutoReal(self.val / b.val, (self.der * b.val - self.val * b.der) / (b.val * b.val))\n",
    "\n",
    "    def __str__(self):\n",
    "        return f'Valeur: {self.val}, Derivee: ({self.der})'"
   ]
  },
  {
   "cell_type": "code",
   "execution_count": 2,
   "id": "bfd5f57b-c0d0-431f-856e-233e6e643484",
   "metadata": {},
   "outputs": [],
   "source": [
    "p = lambda x : (x - 1) * (x - 3) * (x - 5)\n",
    "# La dérivée de ce polynôme, comme vu page \\pageref{extremum} est :\n",
    "p_prime = lambda x : 3*x**2 - 18*x + 23\n",
    "x = AutoReal(3, 1)"
   ]
  },
  {
   "cell_type": "code",
   "execution_count": 3,
   "id": "6a5d7a22-3480-4eaa-a55f-a712c417038f",
   "metadata": {},
   "outputs": [
    {
     "name": "stdout",
     "output_type": "stream",
     "text": [
      "Valeur: 0, Derivee: (-4)\n"
     ]
    }
   ],
   "source": [
    "# La dérivée en $x = 3$ va être calculée automatiquement,\n",
    "# en même temps que la valeur :\n",
    "print(p(x))\n",
    "#> Valeur: 0, Derivee: (-4)"
   ]
  },
  {
   "cell_type": "code",
   "execution_count": 4,
   "id": "90c29d57-4e8f-4e8f-b34c-d04f48e19d7d",
   "metadata": {},
   "outputs": [
    {
     "name": "stdout",
     "output_type": "stream",
     "text": [
      "-4\n"
     ]
    }
   ],
   "source": [
    "# Le résultat obtenu avec la formule est le même.\n",
    "print(p_prime(3))\n",
    "#> -4"
   ]
  },
  {
   "cell_type": "code",
   "execution_count": null,
   "id": "ec0cd6d3-2572-46cf-a4fb-0f8bdf9cb985",
   "metadata": {},
   "outputs": [],
   "source": []
  }
 ],
 "metadata": {
  "kernelspec": {
   "display_name": "Python 3 (ipykernel)",
   "language": "python",
   "name": "python3"
  },
  "language_info": {
   "codemirror_mode": {
    "name": "ipython",
    "version": 3
   },
   "file_extension": ".py",
   "mimetype": "text/x-python",
   "name": "python",
   "nbconvert_exporter": "python",
   "pygments_lexer": "ipython3",
   "version": "3.12.3"
  }
 },
 "nbformat": 4,
 "nbformat_minor": 5
}
