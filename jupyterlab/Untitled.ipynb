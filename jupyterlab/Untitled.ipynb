{
 "cells": [
  {
   "cell_type": "code",
   "execution_count": null,
   "id": "59121f17-2f04-461f-95a5-e2c8e324afbe",
   "metadata": {},
   "outputs": [],
   "source": []
  },
  {
   "cell_type": "code",
   "execution_count": null,
   "id": "906058b5-6756-4b78-9818-7e50f4502271",
   "metadata": {},
   "outputs": [],
   "source": [
    "import PyPDF2\n",
    "\n",
    "def convert_pdf_to_text(pdf_file, output_file):\n",
    "  \"\"\"\n",
    "  Extracts text from a PDF file and saves it to a text file.\n",
    "\n",
    "  Args:\n",
    "      pdf_file (str): Path to the PDF file.\n",
    "      output_file (str): Path to the output text file.\n",
    "  \"\"\"\n",
    "\n",
    "  try:\n",
    "    # Open the PDF file in binary read mode\n",
    "    with open(pdf_file, 'rb') as f:\n",
    "      pdf_reader = PyPDF2.PdfReader(f)\n",
    "\n",
    "      # Extract text from all pages (modify `range(len(pdf_reader.pages))` for specific pages)\n",
    "      text = ''\n",
    "      for page_num in range(len(pdf_reader.pages)):\n",
    "        page = pdf_reader.pages[page_num]\n",
    "        text += page.extract_text() + '\\n'  # Add newline for clarity\n",
    "\n",
    "      # Write the extracted text to the output file\n",
    "      with open(output_file, 'w') as out_file:\n",
    "        out_file.write(text)\n",
    "\n",
    "      print(f\"Text extracted from '{pdf_file}' and saved to '{output_file}'.\")\n",
    "\n",
    "  except FileNotFoundError:\n",
    "    print(f\"Error: PDF file '{pdf_file}' not found.\")\n",
    "  except Exception as e:\n",
    "    print(f\"An error occurred while processing the PDF: {e}\")\n"
   ]
  },
  {
   "cell_type": "code",
   "execution_count": null,
   "id": "5450aefd-d9a0-4f20-8a6f-227d521fe564",
   "metadata": {},
   "outputs": [],
   "source": [
    "# Example usage\n",
    "pdf_file = 'your_pdf_file.pdf'\n",
    "output_file = 'extracted_text.txt'\n",
    "convert_pdf_to_text(pdf_file, output_file)"
   ]
  }
 ],
 "metadata": {
  "kernelspec": {
   "display_name": "Python 3 (ipykernel)",
   "language": "python",
   "name": "python3"
  },
  "language_info": {
   "codemirror_mode": {
    "name": "ipython",
    "version": 3
   },
   "file_extension": ".py",
   "mimetype": "text/x-python",
   "name": "python",
   "nbconvert_exporter": "python",
   "pygments_lexer": "ipython3",
   "version": "3.12.8"
  }
 },
 "nbformat": 4,
 "nbformat_minor": 5
}
