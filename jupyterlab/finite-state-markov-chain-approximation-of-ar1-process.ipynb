{
 "cells": [
  {
   "cell_type": "markdown",
   "id": "9ad0c08b-d2b2-4b5d-921a-27f02a885bd4",
   "metadata": {},
   "source": [
    "# Finite State Markov Chain Approximation of AR(1) Process"
   ]
  },
  {
   "cell_type": "markdown",
   "id": "bd33bc6b-cdde-4e49-87fd-ae777dd1d3bd",
   "metadata": {},
   "source": [
    "For further details see [Heer and Maussner, 2009 p.222](https://a-z.lu/primo-explore/fulldisplay?docid=EBOOKMMSPRINGERLINK9783540856856&context=L&vid=BIBNET&search_scope=All_content&tab=all_content&lang=fr_FR)\n",
    "\n",
    "Consider the process:\n",
    "\\begin{eqnarray}\n",
    "  z_{t+1} = \\rho z_t + \\epsilon_t, \\hspace{1cm} \\epsilon_t \\sim N(0, \\sigma^{2}_{\\epsilon}) \\nonumber\n",
    "\\end{eqnarray}\n",
    "\n",
    "- Select the _size_ of the grid by choosing $\\lambda \\in R_{++}$ so that\n",
    "  \\begin{eqnarray}\n",
    "   z_1 = - \\frac{\\lambda \\sigma_{\\epsilon}}{\\sqrt{1 - \\rho^2}}\n",
    "  \\end{eqnarray}\n",
    "- Choose the number of grid points $m$\n",
    "- Put  $step= - \\frac{2 z_1}{(m-1)}$ and for $i=1, 2, \\ldots , m$ compute $z_i = z_1 + (i-1) step$\n",
    "- Compute the *transition matrix* $P=(p_{ij})$. Let $\\pi(\\cdot)$ denote the *cumulative distribution function* of the standard normal distribution. For $i=1, 2, \\ldots, m$ put\n",
    "\n",
    "  \\begin{equation}\n",
    "     p_{i1} = \\pi \\left( \\frac{z_1 - \\rho z_i}{ \\sigma_{\\epsilon} }  + \\frac{step}{2 \\sigma_{\\epsilon}} \\right) \\nonumber \n",
    "  \\end{equation}\n",
    "\n",
    "  \\begin{equation}\n",
    "     p_{ij} = \\pi \\left( \\frac{z_j - \\rho z_i}{\\sigma_{\\epsilon}} + \\frac{step}{2 \\sigma_{\\epsilon}} \\right) - \\pi \\left( \\frac{z_j - \\rho z_i}{\\sigma_{\\epsilon}} - \\frac{step}{2 \\sigma_{\\epsilon}} \\right) \\mbox{ , } j=2,3,\\ldots,m-1 \\nonumber\n",
    "  \\end{equation}\n",
    "\n",
    "  \\begin{equation}\n",
    "     p_{im} = 1 - \\Sigma^{m-1}_{j=1} p_{ij} \\nonumber\n",
    "  \\end{equation}  \n",
    "\n",
    "The following Julia function takes $\\rho$, $\\sigma_{\\epsilon}$, $\\lambda$ and $m$ as input and returns the vector $z=[z_1, z_2, \\ldots, z_m]'$ and the transition matrix $P$.\n"
   ]
  },
  {
   "cell_type": "code",
   "execution_count": 2,
   "id": "0c0fe711-5666-478d-b3db-575f6b0f5fb3",
   "metadata": {},
   "outputs": [],
   "source": [
    "using Distributions"
   ]
  },
  {
   "cell_type": "code",
   "execution_count": 14,
   "id": "89b0d79c-3652-4944-8473-740eddb103c5",
   "metadata": {},
   "outputs": [
    {
     "data": {
      "text/plain": [
       "fnTauchen (generic function with 1 method)"
      ]
     },
     "execution_count": 14,
     "metadata": {},
     "output_type": "execute_result"
    }
   ],
   "source": [
    "function fnTauchen(pRho, pSigmaEps, pLambda, pM)\n",
    "    pSigmaZ = sqrt( pSigmaEps^2 / (1 - pRho^2) )\n",
    "    zBar = pLambda * pSigmaZ\n",
    "    zStep = 2 * zBar / (pM - 1)\n",
    "    zt = -zBar:zStep:zBar\n",
    "\n",
    "    mP = zeros(pM, pM)\n",
    "\n",
    "    for i = 1:pM\n",
    "        for j = 1:pM\n",
    "            if j == 1\n",
    "                mP[i, j] = cdf(Normal(), (zt[1] - pRho * zt[i] + zStep / 2) / pSigmaEps)\n",
    "            elseif j == pM\n",
    "                mP[i, j] = 1 - cdf(Normal(), (zt[pM] - pRho * zt[i] - zStep / 2) / pSigmaEps)\n",
    "            else\n",
    "                mP[i, j] = cdf(Normal(), (zt[j] - pRho * zt[i] + zStep / 2) / pSigmaEps) -\n",
    "                           cdf(Normal(), (zt[j] - pRho * zt[i] - zStep / 2) / pSigmaEps)\n",
    "            end\n",
    "        end\n",
    "    end\n",
    "\n",
    "    # Ensure all probabilities are within the valid range and rows sum to 1\n",
    "    mP = max.(mP, 0)  # Set any negative probabilities to 0\n",
    "    mP .= mP ./ sum(mP, dims=2)  # Normalize each row to sum to 1\n",
    "\n",
    "    return zt, mP\n",
    "end"
   ]
  },
  {
   "cell_type": "code",
   "execution_count": 15,
   "id": "a1534570-4a2b-451f-8bc5-69225a9ee199",
   "metadata": {},
   "outputs": [
    {
     "data": {
      "text/plain": [
       "(-0.04803844614152614:0.03202563076101742:0.04803844614152614, [0.9967573460146643 0.0032426539853357417 0.0 0.0; 0.00038593322441433047 0.9984407040036449 0.0011733627719406892 0.0; 1.7340864227255355e-21 0.0011733627719406454 0.9984407040036449 0.00038593322441438094; 1.0464655424886977e-54 3.511290301450629e-20 0.00324265398533568 0.9967573460146644])"
      ]
     },
     "execution_count": 15,
     "metadata": {},
     "output_type": "execute_result"
    }
   ],
   "source": [
    "zt, mP = fnTauchen(0.95, 0.005, 3, 4)"
   ]
  },
  {
   "cell_type": "code",
   "execution_count": 16,
   "id": "235d99b3-fce9-4b3b-bbba-0994357019cb",
   "metadata": {},
   "outputs": [
    {
     "data": {
      "text/plain": [
       "4×5 Matrix{Float64}:\n",
       " -0.0480384  0.996757     0.00324265   0.0         0.0\n",
       " -0.0160128  0.000385933  0.998441     0.00117336  0.0\n",
       "  0.0160128  1.73409e-21  0.00117336   0.998441    0.000385933\n",
       "  0.0480384  1.04647e-54  3.51129e-20  0.00324265  0.996757"
      ]
     },
     "execution_count": 16,
     "metadata": {},
     "output_type": "execute_result"
    }
   ],
   "source": [
    "# Combine nodes and transition matrix into a single matrix\n",
    "matrix = hcat(zt, mP)"
   ]
  },
  {
   "cell_type": "code",
   "execution_count": null,
   "id": "5f60e18e-d32a-461d-b69d-4f0a6db8b825",
   "metadata": {},
   "outputs": [],
   "source": []
  }
 ],
 "metadata": {
  "kernelspec": {
   "display_name": "Julia 1.9.2",
   "language": "julia",
   "name": "julia-1.9"
  },
  "language_info": {
   "file_extension": ".jl",
   "mimetype": "application/julia",
   "name": "julia",
   "version": "1.9.2"
  }
 },
 "nbformat": 4,
 "nbformat_minor": 5
}
