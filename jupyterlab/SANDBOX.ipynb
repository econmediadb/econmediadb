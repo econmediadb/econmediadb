{
 "cells": [
  {
   "cell_type": "code",
   "execution_count": 1,
   "id": "96f1f637-27fe-4852-a18a-d91dfc5702e0",
   "metadata": {},
   "outputs": [
    {
     "data": {
      "text/plain": [
       "2×2000 Matrix{Float64}:\n",
       " 1.5258   2.22738  1.53614  2.28665  …  2.15072  1.96453  2.4128   1.72141\n",
       " 2.96187  2.90154  3.27173  3.2597      2.99756  2.68633  3.31022  2.89368"
      ]
     },
     "execution_count": 1,
     "metadata": {},
     "output_type": "execute_result"
    }
   ],
   "source": [
    "using Distributions\n",
    "mean = [2.,3.]\n",
    "C = [0.2 0; 0 0.3]\n",
    "d = MvNormal(mean, C)\n",
    "x = rand(d, 2000)"
   ]
  },
  {
   "cell_type": "code",
   "execution_count": null,
   "id": "73792064-b1e3-4c75-aa51-c32e4440775a",
   "metadata": {},
   "outputs": [],
   "source": []
  }
 ],
 "metadata": {
  "kernelspec": {
   "display_name": "Julia 1.9.2",
   "language": "julia",
   "name": "julia-1.9"
  },
  "language_info": {
   "file_extension": ".jl",
   "mimetype": "application/julia",
   "name": "julia",
   "version": "1.9.2"
  }
 },
 "nbformat": 4,
 "nbformat_minor": 5
}
